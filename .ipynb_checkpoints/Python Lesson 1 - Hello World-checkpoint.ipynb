{
 "cells": [
  {
   "cell_type": "markdown",
   "metadata": {
    "slideshow": {
     "slide_type": "skip"
    }
   },
   "source": [
    "# version 4.1 (Morgan McKnight) Feb 2023"
   ]
  },
  {
   "cell_type": "markdown",
   "metadata": {
    "slideshow": {
     "slide_type": "slide"
    }
   },
   "source": [
    "# <center>Lesson 1 - Hello World</center>\n",
    "![Hello](images/title_hello.png)"
   ]
  },
  {
   "cell_type": "markdown",
   "metadata": {
    "slideshow": {
     "slide_type": "subslide"
    }
   },
   "source": [
    "# Python\n",
    "![MontyPython](images/montypython.jpg)<br>\n",
    "\n",
    "Python is a popular programming language used for a variety of purposes, including web development, data analysis, machine learning, scientific computing, and more. It's known for its simplicity, readability, and ease of use, making it a great language for beginners to learn.\n",
    "\n",
    "In this introductory lesson, we will cover the basics of Python programming, including variables, data types.\n",
    "\n",
    "Python was created by **Guido van Rossum**, and first released on February 20, 1991. While you may know the python as a large snake, the name of the Python programming language comes from an old BBC television comedy sketch series called **Monty Python's Flying Circus.**<br>\n",
    "In this lesson you will learn how to use Juypter Notebooks and you will take your first tentative steps into programming with Python. <br><br>In particular, you will learn how to:\n",
    "<ul>\n",
    "    <li>Use the Print Statement</li>\n",
    "    <li>Collect user input with the Input Statement</li>\n",
    "    <li>Variables</li>\n",
    "    <li>Manipulate numerical variables using operators</li>\n",
    "</ul>"
   ]
  },
  {
   "cell_type": "markdown",
   "metadata": {
    "slideshow": {
     "slide_type": "slide"
    }
   },
   "source": [
    "## Problem 1 - Words Count\n",
    "**The Challenge** \n",
    "> Count the number of words provided. For this problem, a word is any sequence of lowercase letters. For example, hello is a word, but so are non- English “words” like bbaabbb.\n",
    "\n",
    "**The input**\n",
    "\n",
    "> The input is one line of text, consisting of lowercase letters and spaces. There is exactly one space between each pair of words, and there are no spaces before the first word or after the last word.\n",
    "The maximum length of the line is 80 characters.\n",
    "\n",
    "**Output**<hr>\n",
    "> Output the number of words in the input line.\n",
    "  \n",
    "\n",
    "\n"
   ]
  },
  {
   "cell_type": "markdown",
   "metadata": {
    "heading_collapsed": true,
    "slideshow": {
     "slide_type": "slide"
    }
   },
   "source": [
    "## Comments are Ignored\n",
    "When you are writing code you can add comments by putting a hash **#** at the beginning of the line. Python knows not to execute a line that begins with a **#** symbol."
   ]
  },
  {
   "cell_type": "code",
   "execution_count": null,
   "metadata": {
    "slideshow": {
     "slide_type": "subslide"
    }
   },
   "outputs": [],
   "source": [
    "# Run this cell and...\n",
    "# Suddenly nothing happens!"
   ]
  },
  {
   "cell_type": "markdown",
   "metadata": {
    "slideshow": {
     "slide_type": "slide"
    }
   },
   "source": [
    "## Simple Print Statment\n",
    "The main method for outputting information in Python is to use the print statment.\n",
    "\n",
    "e.g. print(\"hello world\") note: brackets and quotes for the text. Let's write our first program:"
   ]
  },
  {
   "cell_type": "code",
   "execution_count": null,
   "metadata": {
    "scrolled": true,
    "slideshow": {
     "slide_type": "subslide"
    }
   },
   "outputs": [],
   "source": [
    "# Example  print()\n",
    "print(\"Morgan's Cat is a cat\")\n",
    "print('Hello World')"
   ]
  },
  {
   "cell_type": "markdown",
   "metadata": {
    "slideshow": {
     "slide_type": "slide"
    }
   },
   "source": [
    "## SAQ 1: Hello World\n",
    "> Write a Pyton print statment that prints 'Hello, World!'"
   ]
  },
  {
   "cell_type": "code",
   "execution_count": null,
   "metadata": {
    "slideshow": {
     "slide_type": "subslide"
    }
   },
   "outputs": [],
   "source": [
    "# PUT YOUR ANSWER TO SAQ 1 HERE \n",
    "print('Hello World')"
   ]
  },
  {
   "cell_type": "markdown",
   "metadata": {
    "slideshow": {
     "slide_type": "skip"
    }
   },
   "source": [
    "## **Question:**  Where do we store information in a computer?"
   ]
  },
  {
   "cell_type": "code",
   "execution_count": null,
   "metadata": {
    "scrolled": true,
    "slideshow": {
     "slide_type": "skip"
    }
   },
   "outputs": [],
   "source": [
    "import ctypes\n",
    "x = 5\n",
    "print(id(x))\n",
    "memory_address = id(x)\n",
    "print(ctypes.cast(memory_address, ctypes.py_object).value )"
   ]
  },
  {
   "cell_type": "markdown",
   "metadata": {
    "slideshow": {
     "slide_type": "slide"
    }
   },
   "source": [
    "# What is a variable?\n",
    "At the end of the day, a program's goal is to do something with data, or in other words, the stuff you put into your program. You use variables to manipulate the data. More specifically, a variable is a container used to store a piece of data that your program may need for processing.\n",
    "\n",
    "A variable as a box that contains a value. This box is stored on a shelf within a gigantic warehouse. The location of every box is carefully recorded, just like your computer records the location of your variable in memory.\n",
    "![variable_boxes](images/variables_boxes.png)<br>\n",
    "\n",
    "\n",
    "A **value** is a piece of data you put in a variable. To go back to warehouse analogy, different boxes can store different values. For example, you can use one to store money for ongoing expenditures, and another one to save up for a specific occasion, like going on a trip. You can also empty the boxes or change their content, like adding money to boxes or taking some out.\n",
    "\n",
    "To know what each box is for, you need to label them.  With programming, it's the same: you assign a **name** to your variable:\n",
    "\n",
    "> Use descriptive names throughout your code. i.e.\n",
    "Spell it out\n",
    "\n",
    "\n",
    "\n",
    "1. **Use Naming Conventions for variables**  \n",
    "One of the popular naming conventions is called **camel case** (also known as camel caps) - a compound phrase that consists of multiple words without spaces or punctuation. The first word is written in lowercase, and all other words are capitalized. For example *myBudget*.\n",
    "2. **Creating a variable**  \n",
    "You must create a variable in code if you are going to use one. Python is completely **object-oriented,** meaning that every variable is an **object**. Rather than declaring variables to reserve memory space, they are declared automatically when you assign a value to a variable.\n",
    "\n",
    "There are several types of variables in Python. Variables containing numbers can be declared by writing the name of a variable and its initial value. For example:\n"
   ]
  },
  {
   "cell_type": "code",
   "execution_count": null,
   "metadata": {
    "slideshow": {
     "slide_type": "subslide"
    }
   },
   "outputs": [],
   "source": [
    "# Assigning values to variables\n",
    "x = 4\n",
    "my_name = \"Morgan\""
   ]
  },
  {
   "cell_type": "code",
   "execution_count": null,
   "metadata": {
    "slideshow": {
     "slide_type": "subslide"
    }
   },
   "outputs": [],
   "source": [
    "# You can print the contents of a variable directly e.g.:\n",
    "print (my_name)"
   ]
  },
  {
   "cell_type": "markdown",
   "metadata": {
    "slideshow": {
     "slide_type": "slide"
    }
   },
   "source": [
    "# String Variables\n",
    "Text is stored as a string value in Python, so we’ll need to learn about strings. To solve the problem, we output the number of words in the text, so we also need to learn about numeric values. Let’s begin with strings. \n",
    "> When assigning a string to a variable you should wrap it in either single(') or double (\") quotes. "
   ]
  },
  {
   "cell_type": "code",
   "execution_count": null,
   "metadata": {
    "slideshow": {
     "slide_type": "subslide"
    }
   },
   "outputs": [],
   "source": [
    "# Storing a string(text) in a variable\n",
    "myName = \"Morgan\" #Note the use of quotes. The text in a variables are called strings.\n",
    "print(myName) # Printing the contents of the variable"
   ]
  },
  {
   "cell_type": "code",
   "execution_count": null,
   "metadata": {
    "slideshow": {
     "slide_type": "skip"
    }
   },
   "outputs": [],
   "source": [
    "# Storing a number (integer/Floating) in a variable\n",
    "myAgeToday = 34.56\n",
    "print(myAgeToday)"
   ]
  },
  {
   "cell_type": "markdown",
   "metadata": {},
   "source": [
    "ℹ️ **Note**\n",
    "> Don't use single quotes around strings that contain single quotes like this sentence (Don't); instead, use double quotes.\n"
   ]
  },
  {
   "cell_type": "code",
   "execution_count": null,
   "metadata": {},
   "outputs": [],
   "source": [
    "# Example of quote within a quote\n",
    "print(\"Don't use single quotes around strings that contain single quotes like this sentence\")"
   ]
  },
  {
   "cell_type": "markdown",
   "metadata": {
    "slideshow": {
     "slide_type": "slide"
    }
   },
   "source": [
    "## Python String Operators\n",
    "Strings come with a rich variety of operations that we can perform (inbuilt python functions). Some of them use special symbols between their operands. For example, the **+** operator is used for string concatenation:"
   ]
  },
  {
   "cell_type": "markdown",
   "metadata": {
    "slideshow": {
     "slide_type": "subslide"
    }
   },
   "source": [
    "### Concatenating strings (joining text)"
   ]
  },
  {
   "cell_type": "code",
   "execution_count": null,
   "metadata": {
    "slideshow": {
     "slide_type": "subslide"
    }
   },
   "outputs": [],
   "source": [
    "# Define our variables\n",
    "morgan_name = \"Morgan mck\"\n",
    "gretta_name = \"Gretta K\""
   ]
  },
  {
   "cell_type": "code",
   "execution_count": null,
   "metadata": {
    "slideshow": {
     "slide_type": "subslide"
    }
   },
   "outputs": [],
   "source": [
    "# Print the contents of a variable\n",
    "print(morgan_name)\n",
    "\n",
    "# Concatinate two variables\n",
    "print(morgan_name + gretta_name) \n",
    "\n",
    "# Concatinate two variables + string\n",
    "print(morgan_name + \" is married to \" + gretta_name) "
   ]
  },
  {
   "cell_type": "markdown",
   "metadata": {},
   "source": [
    "ℹ️ **Note**\n",
    "> Note that, in Python it is possible to carry out operations within the print command."
   ]
  },
  {
   "cell_type": "code",
   "execution_count": null,
   "metadata": {},
   "outputs": [],
   "source": [
    "print('2'+'6')"
   ]
  },
  {
   "cell_type": "markdown",
   "metadata": {
    "slideshow": {
     "slide_type": "slide"
    }
   },
   "source": [
    "## String Methods\n",
    "A method is function that can be run on variables. Strings have a large number of methods. For example, there’s a method called upper, which produces the uppercase version of a string:"
   ]
  },
  {
   "cell_type": "code",
   "execution_count": null,
   "metadata": {
    "slideshow": {
     "slide_type": "subslide"
    }
   },
   "outputs": [],
   "source": [
    "str_1 = \"The Cat Sat on the mat.\"\n",
    "# str_1 = str_1.upper()\n",
    "print(str_1)\n"
   ]
  },
  {
   "cell_type": "code",
   "execution_count": null,
   "metadata": {},
   "outputs": [],
   "source": [
    "print(str_1)"
   ]
  },
  {
   "cell_type": "markdown",
   "metadata": {},
   "source": [
    "ℹ️ **Note:** \n",
    "1. Performing a method on a value is known as calling the method. Calling a method involves placing the dot operator `.` between the value and the method name.\n",
    "2. Methods require parentheses after the method name. For some methods, we leave those parentheses empty, as when calling the `upper()` method.\n",
    "3. For other methods, we can optionally include information inside the parentheses. For example, strings have a `strip` method. If called with no arguments, `strip()` removes all leading and trailing spaces from a string.\n"
   ]
  },
  {
   "cell_type": "code",
   "execution_count": null,
   "metadata": {
    "slideshow": {
     "slide_type": "subslide"
    }
   },
   "outputs": [],
   "source": [
    "# Remove the spaces from the ends of a string.\n",
    "str_1 = ' harrased  '\n",
    "print(str_1.strip()) # Using the strip method\n",
    "print(str_1)"
   ]
  },
  {
   "cell_type": "code",
   "execution_count": null,
   "metadata": {},
   "outputs": [],
   "source": [
    "# Remove the spaces from a string stored in a variable\n",
    "word = '    pedlar  '\n",
    "new_word = word.strip()\n",
    "print(word)\n",
    "print(new_word)"
   ]
  },
  {
   "cell_type": "markdown",
   "metadata": {},
   "source": [
    "ℹ️ **Note**\n",
    "> Note: The method does not change the variable itself, it only transforms the output. To create a new word without the trailing spaces then assign the transformation to a new variable."
   ]
  },
  {
   "cell_type": "markdown",
   "metadata": {},
   "source": [
    "## SAQ 2 - Strip Teaser\n",
    "Given the string text = \" Hello, Python! \", how would you remove the leading and trailing spaces using the strip method? Provide the line of Python code that accomplishes this."
   ]
  },
  {
   "cell_type": "code",
   "execution_count": null,
   "metadata": {},
   "outputs": [],
   "source": [
    "# PUT YOUR ANSWER HERE \n"
   ]
  },
  {
   "cell_type": "markdown",
   "metadata": {},
   "source": [
    "### The count() Method\n",
    "The count() method returns the number of times a specified value appears in the string"
   ]
  },
  {
   "cell_type": "code",
   "execution_count": null,
   "metadata": {
    "slideshow": {
     "slide_type": "subslide"
    }
   },
   "outputs": [],
   "source": [
    "# Example of count\n",
    "txt = 'abracadabra'\n",
    "a_count = txt.count('ab')\n",
    "print(a_count)"
   ]
  },
  {
   "cell_type": "code",
   "execution_count": null,
   "metadata": {},
   "outputs": [],
   "source": [
    "# Example 2\n",
    "txt = 'a r c d a r a'\n",
    "space_count = txt.count('a')\n",
    "print(space_count)"
   ]
  },
  {
   "cell_type": "markdown",
   "metadata": {},
   "source": [
    "### The len() Function\n",
    "len() is a function, therefore we do not use the dot method. Instead we put the information to be processed into the brackets. len() counts the number of items, in the following it counts the number of words."
   ]
  },
  {
   "cell_type": "code",
   "execution_count": null,
   "metadata": {},
   "outputs": [],
   "source": [
    "# Counting letters in text len()\n",
    "word = \"farmereeerrrrrrr\"\n",
    "count = len(word)\n",
    "print(count)"
   ]
  },
  {
   "cell_type": "markdown",
   "metadata": {
    "slideshow": {
     "slide_type": "slide"
    }
   },
   "source": [
    "# Number Variables - <span class=\"mark\">Integer and Floating-Point</span>\n",
    "An **expression** is made up of values and operators. We’ll now see how to write numeric values and combine them with operators.  \n",
    "There are two different Python types that represent numbers: **integers** (with no decimal part) and **floating-point** numbers (with a decimal part). We write integer values as numbers with no decimal point.  \n",
    "Here are\n",
    "some examples:"
   ]
  },
  {
   "cell_type": "code",
   "execution_count": null,
   "metadata": {
    "slideshow": {
     "slide_type": "subslide"
    }
   },
   "outputs": [],
   "source": [
    "# Assign Integer Numbers to variable\n",
    "my_age = \"50\"\n",
    "his_age = \"22\"\n",
    "\n",
    "\n",
    "# printing and calculating at the same time. \n",
    "print(my_age + his_age) "
   ]
  },
  {
   "cell_type": "code",
   "execution_count": null,
   "metadata": {
    "slideshow": {
     "slide_type": "subslide"
    }
   },
   "outputs": [],
   "source": [
    "# Changing variable using the assignment operater(=) \n",
    "my_age = 50\n",
    "# print(my_age + 45) # this is not stored anywhere\n",
    "# print(my_age) # See! but...\n",
    "# my_new_age = my_age + 45\n",
    "# print(my_new_age) # OR...\n",
    "print(my_age)\n",
    "my_age = my_age + 45 # assign a new value to the my_age variable.\n",
    "print(my_age)"
   ]
  },
  {
   "cell_type": "code",
   "execution_count": null,
   "metadata": {
    "slideshow": {
     "slide_type": "skip"
    }
   },
   "outputs": [],
   "source": [
    "print(my_age)"
   ]
  },
  {
   "cell_type": "code",
   "execution_count": null,
   "metadata": {
    "slideshow": {
     "slide_type": "skip"
    }
   },
   "outputs": [],
   "source": [
    "# Floating Point numbers\n",
    "# Import math Library\n",
    "import math\n",
    "\n",
    "# Print the value of pi\n",
    "print (math.pi) "
   ]
  },
  {
   "cell_type": "markdown",
   "metadata": {
    "slideshow": {
     "slide_type": "slide"
    }
   },
   "source": [
    "## Numerical operators\n",
    "- \\+ used for addition\n",
    "- \\- used for subtraction\n",
    "- \\* used for Multiplication\n",
    "- \\/ used for Division\n",
    "- \\% Modulus: divides and returns the value of the remainder.\n",
    "- \\**  Exponentiation: raises the first number to the power of the second\n",
    "- \\// Floor division: divides and returns the integer value of the quotient. It dumps the digits after the decimal.\n"
   ]
  },
  {
   "cell_type": "code",
   "execution_count": null,
   "metadata": {
    "slideshow": {
     "slide_type": "subslide"
    }
   },
   "outputs": [],
   "source": [
    "# Example of adding two variables\n",
    "num_1 = 99  # 4 is assigned to variable num_1\n",
    "num_2 = 2   # 7 is assigned to variable num_2\n",
    "\n",
    "# Example of addition\n",
    "# num_2 = 7+2\n",
    "# num_2 = num_2+4\n",
    "\n",
    "\n",
    "# Add Store the result in a third variable\n",
    "z = num_1 / num_2\n",
    "print(z)"
   ]
  },
  {
   "cell_type": "markdown",
   "metadata": {},
   "source": [
    "In Python, the modulus operator % returns the remainder of a division operation.\n",
    "\n",
    "Here's an example:"
   ]
  },
  {
   "cell_type": "code",
   "execution_count": null,
   "metadata": {},
   "outputs": [],
   "source": [
    "# modulus of integers\n",
    "a = 112344\n",
    "b = 2\n",
    "c = a % b\n",
    "print(c)  # output: 1\n"
   ]
  },
  {
   "cell_type": "code",
   "execution_count": null,
   "metadata": {},
   "outputs": [],
   "source": [
    "# floor division of integers\n",
    "a = 11\n",
    "b = 3\n",
    "c = a // b\n",
    "print(c)  # output: 3"
   ]
  },
  {
   "cell_type": "markdown",
   "metadata": {},
   "source": [
    "## "
   ]
  },
  {
   "cell_type": "markdown",
   "metadata": {
    "slideshow": {
     "slide_type": "slide"
    }
   },
   "source": [
    "## SAQ 3 - Multiple multiplactions\n",
    "Create three varibles x and y and z. <ol><li>Multiply the three variables x y and z and print the result as variable 'ans_1'.</li>\n",
    "    <li>Divide the answer by 3 and store it in variable 'ans_2'.,</li><li> Print the result.</li>\n",
    "</ol>"
   ]
  },
  {
   "cell_type": "code",
   "execution_count": null,
   "metadata": {},
   "outputs": [],
   "source": [
    "# PUT YOUR ANSWER TO SAQ 3 HERE"
   ]
  },
  {
   "cell_type": "markdown",
   "metadata": {},
   "source": [
    "## SAQ 4- Power of\n",
    "Create two varibles x and y. <ol><li>Calculate x to the power of y.</li>\n",
    "<li>Get the modulus of x divided by y</li>\n",
    "<li>get the floor division of x divided by y</li>    \n",
    "</ol>"
   ]
  },
  {
   "cell_type": "code",
   "execution_count": null,
   "metadata": {},
   "outputs": [],
   "source": [
    "# PUT YOUR ANSWER TO SAQ 4 HERE - DO NOT SHOW SOLUTION \n"
   ]
  },
  {
   "cell_type": "markdown",
   "metadata": {
    "slideshow": {
     "slide_type": "slide"
    }
   },
   "source": [
    "# Input  Statement\n",
    "The `input()` function in Python is used to capture user input. Here's a short definition:\n",
    "\n",
    "- **Functionality**: Prompts the user for input from the standard input device (usually the keyboard).\n",
    "- **Behavior**: Reads a line from input, converts it to a string (removing the trailing newline), and returns that string.\n",
    "- **Usage Example**:\n",
    "\n",
    "```python\n",
    "user_input = input(\"Enter your input here: \")\n",
    "print(\"You entered:\", user_input)\n",
    "```\n",
    "\n",
    "In this example, the program will display the message *Enter your input here:*, wait for the user to type something and press Enter, and then print the user's input prefixed with *You entered:*.\n"
   ]
  },
  {
   "cell_type": "code",
   "execution_count": null,
   "metadata": {
    "slideshow": {
     "slide_type": "subslide"
    }
   },
   "outputs": [],
   "source": [
    "# Simple input (Remember to press return)\n",
    "car = input()\n",
    "print (car)"
   ]
  },
  {
   "cell_type": "code",
   "execution_count": null,
   "metadata": {},
   "outputs": [],
   "source": [
    "# Example of an input statment that takes a number\n",
    "x = input('Please input your age here!')\n",
    "# y = int(x) #You must convert your input to an integer using a function int()\n",
    "x = int(x)\n",
    "print(x - 4)"
   ]
  },
  {
   "cell_type": "markdown",
   "metadata": {},
   "source": [
    "## SAQ 5 - Pet Greeting\n",
    "\n",
    "Write a program that asks for a pet name and pet age, and print the following \" My pet's name is 'Name\" my pet's age is 'age'"
   ]
  },
  {
   "cell_type": "code",
   "execution_count": null,
   "metadata": {},
   "outputs": [],
   "source": [
    "# PUT YOUR ANSWER TO SAQ 5 HERE \n",
    "\n"
   ]
  },
  {
   "cell_type": "markdown",
   "metadata": {
    "slideshow": {
     "slide_type": "slide"
    }
   },
   "source": [
    "# Solve Problem 1 - Words Count problem - Team Exercise\n",
    "You should now have enough information to solve the problem. You will be divided into teams and one person will be nominated as leader. It will be there job to write the solution with inputs from the other team members. When you come back from the breakout room you will be presented with a sentence to analyse.  \n",
    "**Note:** Anybody can be asked to explain the solution."
   ]
  },
  {
   "cell_type": "code",
   "execution_count": null,
   "metadata": {
    "slideshow": {
     "slide_type": "subslide"
    }
   },
   "outputs": [],
   "source": [
    "# PUT YOUR ANSWER PROBLEM HERE\n",
    "\n"
   ]
  },
  {
   "cell_type": "markdown",
   "metadata": {},
   "source": [
    "## Leveraging ChatGPT 3.5 for Learning Python and Generating Program Ideas\n",
    "\n",
    "ChatGPT 3.5 is a powerful AI tool that can significantly aid in learning Python programming and in generating innovative programming ideas. It's equipped to assist users in understanding complex concepts, debugging code, and even brainstorming for creative programming projects.\n",
    "### Sign Up for ChatGPT 3.5\n",
    "To access the capabilities of ChatGPT and enhance your Python programming journey, visit [OpenAI ChatGPT](https://chat.openai.com/).\n",
    "\n",
    "### Learning Python with ChatGPT 3.5\n",
    "**Approach:** ChatGPT 3.5 can explain Python concepts in detail, from basic syntax to advanced programming techniques. For instance, if you're struggling with understanding decorators in Python, you can ask ChatGPT to explain the concept with examples.\n",
    "\n",
    "**Example Prompt:**\n",
    "\"Can you explain how lists work in Python and show me how to add and remove items?\"\n",
    "\n",
    "### Generating code with ChatGPT 3.5\n",
    "**Example Prompt:**\n",
    "\"Please write me a python program that guesses selects a random number between 1 and 10, and asks the user to guess the number.\"\n"
   ]
  },
  {
   "cell_type": "code",
   "execution_count": 6,
   "metadata": {},
   "outputs": [],
   "source": [
    "# Try it Out\n",
    "\n",
    "\n"
   ]
  },
  {
   "cell_type": "markdown",
   "metadata": {},
   "source": [
    "## Video Support"
   ]
  },
  {
   "cell_type": "code",
   "execution_count": null,
   "metadata": {
    "scrolled": true
   },
   "outputs": [],
   "source": [
    "from IPython.display import YouTubeVideo\n",
    "# Introduction to Python- Strings\n",
    "# Video credit: Corey Schefer.\n",
    "YouTubeVideo('k9TUPpGqYTo', width=620, height=350)"
   ]
  },
  {
   "cell_type": "markdown",
   "metadata": {},
   "source": [
    "## Summary- Lesson 1\n",
    "\n",
    "- **Brief overview of Python**\n",
    "  - Python is a popular programming language used for a variety of purposes, including web development, data analysis, machine learning, scientific computing, and more. It's known for its simplicity, readability, and ease of use, making it a great language for beginners to learn.\n",
    "\n",
    "- **Origin of Python**\n",
    "  - Python was created by Guido van Rossum and first released on February 20, 1991. The name of the Python programming language comes from an old BBC television comedy sketch series called \"Monty Python's Flying Circus\".\n",
    "\n",
    "### Objectives\n",
    "\n",
    "- Use the `print` Statement\n",
    "- Collect user input with the `input` Statement\n",
    "- Understand Variables and basic data types\n",
    "- Basic operations with numerical variables\n",
    "\n",
    "### Using Jupyter Notebooks\n",
    "\n",
    "- A brief tutorial on how to use Jupyter Notebooks for Python programming.\n",
    "\n",
    "### Self-Assessment Questions (SAQs)\n",
    "\n",
    "- Encourage exploring the concepts covered with practical exercises and questions.\n",
    "\n",
    "### Comments in Python\n",
    "\n",
    "- **Importance of comments**: Learn how to write comments in Python to make your code more readable.\n",
    "\n",
    "### The Print Statement\n",
    "\n",
    "- Syntax and examples of using `print()` in Python.\n",
    "\n",
    "### The Input Statement\n",
    "\n",
    "- Explaining how `input()` works with an example.\n",
    "\n",
    "### Understanding Variables\n",
    "\n",
    "- Variables are like containers for storing data values. Using descriptive names for variables is important for readability and maintainability of code.\n",
    "\n",
    "### Data Types - Introduction\n",
    "\n",
    "- An overview of different data types in Python, focusing on strings and numerical types for this lesson.\n",
    "\n",
    "### Strings in Python\n",
    "\n",
    "- Introduction to strings, using single vs. double quotes, and string concatenation example.\n",
    "\n",
    "### Numerical Variables and Operators\n",
    "\n",
    "- Overview of integers and floating-point numbers, and basic arithmetic operations.\n",
    "\n",
    "### Problem 1 - Words Count\n",
    "\n",
    "- A detailed explanation of the challenge, including input and output requirements.\n",
    "\n",
    "### Practical Examples\n",
    "\n",
    "- Simple `print` statement example.\n",
    "- Example on variables and basic operations.\n",
    "\n",
    "### Using ChatGPT 3.5 for Python Programming\n",
    "\n",
    "- How ChatGPT 3.5 can be a resource for learning and problem-solving in Python programming.\n",
    "- Provide an example prompt for generating a program.\n"
   ]
  },
  {
   "cell_type": "markdown",
   "metadata": {},
   "source": [
    "![The End](images/the_end.png)"
   ]
  }
 ],
 "metadata": {
  "hide_input": false,
  "interpreter": {
   "hash": "c8edc265a231c5bb375f614fcb4e9cbfaf5ba97d5bb163e3225d5f9eda71810a"
  },
  "kernelspec": {
   "display_name": "Python 3 (ipykernel)",
   "language": "python",
   "name": "python3"
  },
  "language_info": {
   "codemirror_mode": {
    "name": "ipython",
    "version": 3
   },
   "file_extension": ".py",
   "mimetype": "text/x-python",
   "name": "python",
   "nbconvert_exporter": "python",
   "pygments_lexer": "ipython3",
   "version": "3.9.12"
  },
  "toc": {
   "base_numbering": 1,
   "nav_menu": {},
   "number_sections": true,
   "sideBar": true,
   "skip_h1_title": false,
   "title_cell": "Table of Contents",
   "title_sidebar": "Contents",
   "toc_cell": false,
   "toc_position": {
    "height": "calc(100% - 180px)",
    "left": "10px",
    "top": "150px",
    "width": "355px"
   },
   "toc_section_display": true,
   "toc_window_display": false
  },
  "varInspector": {
   "cols": {
    "lenName": 16,
    "lenType": 16,
    "lenVar": 40
   },
   "kernels_config": {
    "python": {
     "delete_cmd_postfix": "",
     "delete_cmd_prefix": "del ",
     "library": "var_list.py",
     "varRefreshCmd": "print(var_dic_list())"
    },
    "r": {
     "delete_cmd_postfix": ") ",
     "delete_cmd_prefix": "rm(",
     "library": "var_list.r",
     "varRefreshCmd": "cat(var_dic_list()) "
    }
   },
   "types_to_exclude": [
    "module",
    "function",
    "builtin_function_or_method",
    "instance",
    "_Feature"
   ],
   "window_display": false
  }
 },
 "nbformat": 4,
 "nbformat_minor": 4
}
