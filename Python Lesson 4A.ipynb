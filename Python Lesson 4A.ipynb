{
 "cells": [
  {
   "cell_type": "markdown",
   "id": "d82917d6",
   "metadata": {},
   "source": [
    "# <center>Lesson 4A - Lists and Things</center>\n",
    "![MontyPython](images/title_collections.png)"
   ]
  },
  {
   "cell_type": "markdown",
   "id": "c49dc64c",
   "metadata": {},
   "source": [
    "# Lists"
   ]
  },
  {
   "cell_type": "markdown",
   "id": "57248e06",
   "metadata": {},
   "source": [
    "In Python, a list is a built-in data structure used to store a collection of items within a single variable. Lists are ordered, meaning that the items have a defined order that will not change. They are mutable, allowing the modification of their content, including adding, removing, or changing items. Lists can hold items of different data types, including another list, which allows for the creation of nested lists. They are defined by enclosing items within square brackets `[ ]`, and items within the list are separated by commas. \n",
    "\n",
    "Example of a simple Python list:\n",
    "```python\n",
    "my_list = [1, \"hello\", 3.14, True]\n",
    "```\n",
    "\n",
    "This list contains an integer, a string, a floating-point number, and a Boolean value, demonstrating the versatility of lists in Python."
   ]
  },
  {
   "cell_type": "markdown",
   "id": "1887baaa",
   "metadata": {},
   "source": [
    "courses = ['History','Math', 'Physics', 'Irish','French', 'Geography',\"Python\"]\n",
    "print(courses)"
   ]
  },
  {
   "cell_type": "markdown",
   "id": "0643e344",
   "metadata": {},
   "source": [
    "## Slicing"
   ]
  },
  {
   "cell_type": "code",
   "execution_count": null,
   "id": "24f7d1d4",
   "metadata": {},
   "outputs": [],
   "source": [
    "print(courses[3])"
   ]
  },
  {
   "cell_type": "code",
   "execution_count": null,
   "id": "ec51c352",
   "metadata": {},
   "outputs": [],
   "source": [
    "print(courses[4]) # dont need to know lenght"
   ]
  },
  {
   "cell_type": "code",
   "execution_count": null,
   "id": "15a28c48",
   "metadata": {},
   "outputs": [],
   "source": [
    "print(courses[1:4]) # 4 not included (stop)"
   ]
  },
  {
   "cell_type": "code",
   "execution_count": null,
   "id": "d9bf9349",
   "metadata": {},
   "outputs": [],
   "source": [
    "# list_names = [\"Ester\",\"Tom\", \"Mary\"]\n",
    "num_list = [['aa','ub','cc','dd','ee'],4,7,100, [\"Ester\",\"Tom\", \"Mary\"] ,123]\n",
    "\n",
    "print(num_list[0][2])"
   ]
  },
  {
   "cell_type": "code",
   "execution_count": null,
   "id": "011ca91a",
   "metadata": {},
   "outputs": [],
   "source": [
    "# print(courses[:2]) # assumes start from 0\n",
    "\n",
    "# print(courses[2:]) # assumes stop at last item\n",
    "\n",
    "science_subjects = courses[1:3]\n",
    "print(science_subjects)\n",
    "\n",
    "# print(science_subjects[0])\n",
    "print(courses)"
   ]
  },
  {
   "cell_type": "markdown",
   "id": "4775bafd",
   "metadata": {},
   "source": [
    "## Methods"
   ]
  },
  {
   "cell_type": "markdown",
   "id": "c24cb4d4",
   "metadata": {},
   "source": [
    "### Add items to a list"
   ]
  },
  {
   "cell_type": "code",
   "execution_count": null,
   "id": "385a67f9",
   "metadata": {},
   "outputs": [],
   "source": [
    "# Add item to our list\n",
    "courses = ['History','Math', 'Physics', 'Irish','French', 'Geography']\n",
    "# print(courses)\n",
    "courses.append('Art') # appends to end  append() method\n",
    "print(courses)\n"
   ]
  },
  {
   "cell_type": "code",
   "execution_count": null,
   "id": "482c8c02",
   "metadata": {},
   "outputs": [],
   "source": [
    "# Insert Method\n",
    "courses.insert(3, 'Social Science')\n",
    "print(courses)"
   ]
  },
  {
   "cell_type": "markdown",
   "id": "b4f84959",
   "metadata": {},
   "source": [
    "### Nested List"
   ]
  },
  {
   "cell_type": "code",
   "execution_count": null,
   "id": "a2e7fea9",
   "metadata": {},
   "outputs": [],
   "source": [
    "# Nested Lists\n",
    "test_list = [\"Monday\", \"Tuesday\", \"Wednesday\",[\"Jan\",\"Feb\",\"March\",\"Apr\"]]\n",
    "# print(test_list)\n",
    "print(test_list[3][2])"
   ]
  },
  {
   "cell_type": "code",
   "execution_count": null,
   "id": "675e80c1",
   "metadata": {},
   "outputs": [],
   "source": [
    "# Insert a List into a list. Nested List\n",
    "courses = ['History','Math', 'Physics', 'Irish']\n",
    "courses_2 = ['Geography', 'Spanish']\n",
    "courses.insert(2, courses_2) # A list within a list\n",
    "print(courses)\n"
   ]
  },
  {
   "cell_type": "code",
   "execution_count": null,
   "id": "944c6447",
   "metadata": {},
   "outputs": [],
   "source": [
    "# Output nested list result\n",
    "print(courses[2][0])"
   ]
  },
  {
   "cell_type": "markdown",
   "id": "47173d0b",
   "metadata": {},
   "source": [
    "### Remove Item from a list"
   ]
  },
  {
   "cell_type": "code",
   "execution_count": null,
   "id": "ccd84060",
   "metadata": {},
   "outputs": [],
   "source": [
    "# remove() method\n",
    "courses = ['History','Math', 'Physics', 'Irish']\n",
    "print(courses)\n",
    "courses.remove(courses[1])\n",
    "print(courses)"
   ]
  },
  {
   "cell_type": "code",
   "execution_count": null,
   "id": "bcd4aa94",
   "metadata": {},
   "outputs": [],
   "source": [
    "#pop()\n",
    "x = courses.pop() # removes the last value from a list and stores the values\n",
    "print(x)\n",
    "\n",
    "print(courses)\n",
    "# rem = courses.pop()\n",
    "# print(rem)\n",
    "# print(courses)"
   ]
  },
  {
   "cell_type": "markdown",
   "id": "f08a1542",
   "metadata": {},
   "source": [
    "### Ordering/Sorting  lists\n",
    "Sorting list without changing the original list. Use a sorted function."
   ]
  },
  {
   "cell_type": "code",
   "execution_count": null,
   "id": "b9e372c2",
   "metadata": {},
   "outputs": [],
   "source": [
    "# sorted() Does not change list\n",
    "nums = [1,2,123,3,4]\n",
    "sorted_nums = sorted(nums)\n",
    "print(nums)\n",
    "print(sorted_nums)\n",
    "print(nums)"
   ]
  },
  {
   "cell_type": "code",
   "execution_count": null,
   "id": "bacfd00a",
   "metadata": {},
   "outputs": [],
   "source": [
    "# Reverse Sort\n",
    "my_list = [3, 1, 4, 1, 5, 9, 2, 6, 5, 3, 5]\n",
    "my_list.sort()\n",
    "my_list.reverse()"
   ]
  },
  {
   "cell_type": "markdown",
   "id": "1f46a16d",
   "metadata": {},
   "source": [
    "## SAQ 1 min, max, sum\n",
    "Test out the three functions min, max, sum and calculate the average using len() function.  Change the nums list and try again.\n",
    "```python\n",
    "nums = [2,2,5,64,4]\n",
    "```"
   ]
  },
  {
   "cell_type": "code",
   "execution_count": null,
   "id": "8ee231db",
   "metadata": {},
   "outputs": [],
   "source": [
    "# Put your Answer Here\n",
    "nums = [2,1,5,64,4]"
   ]
  },
  {
   "cell_type": "markdown",
   "id": "423f6677",
   "metadata": {},
   "source": [
    "## The Random Library"
   ]
  },
  {
   "cell_type": "code",
   "execution_count": null,
   "id": "1d1c2bc5",
   "metadata": {},
   "outputs": [],
   "source": [
    "# Select Rndom Integer\n",
    "import random\n",
    "print(random.randint(0,9))\n",
    "\n"
   ]
  },
  {
   "cell_type": "code",
   "execution_count": null,
   "id": "48dbc565",
   "metadata": {},
   "outputs": [],
   "source": [
    "# Random Selection\n",
    "\n",
    "# List of fruits\n",
    "fruits = [\"apple\", \"banana\", \"cherry\", \"date\", \"elderberry\", \"fig\", \"grape\"]\n",
    "\n",
    "# Randomly select 3 unique fruits from the list\n",
    "selected_fruits = random.sample(fruits, 3)\n",
    "\n",
    "print(\"Randomly selected fruits:\", selected_fruits)\n"
   ]
  },
  {
   "cell_type": "markdown",
   "id": "865fb2fe",
   "metadata": {},
   "source": [
    "## MAQ - I guess!\n",
    "Write a game where the computer guesses a random number and the user has to guess the number correctly. Use the input function to collect the guess from the user. If the user guesses too low or too high tell them and give them another guess until they guess the right number."
   ]
  },
  {
   "cell_type": "code",
   "execution_count": null,
   "id": "e8a71282",
   "metadata": {},
   "outputs": [],
   "source": [
    "# Put your answer here\n",
    "import random\n",
    "secret = random.randint(0,9)\n",
    "over = False"
   ]
  },
  {
   "cell_type": "markdown",
   "id": "574a114a",
   "metadata": {},
   "source": [
    "## What are programming Loops\n",
    "In this lesson we are going to examine loops. In a programming language, a loop is a statement that contains a set of instructions that are repeated until a certain condition is reached. Loops help remove code redundancy for example if we wish to print out something a 100 times a loop statement can avoid putting in a 100 print statements by looping over the print statement a 100 times. Loops are also used to iterate over elements in a variable.\n",
    "\n",
    "- There are two types of loops:\n",
    "\n",
    "1. A for loop is used for iterating over a sequence (that is either a list, a tuple, a dictionary, a set, or a string).\n",
    "\n",
    "2. A while loop continually executes the instructions(code) as long as the given condition is **TRUE**. Each time it loops it checks if the condition is **True**. If **True** then it implements the loop again."
   ]
  },
  {
   "cell_type": "markdown",
   "id": "7285a341",
   "metadata": {},
   "source": [
    "<div><img src=\"images/preview.png\" alt=\"preview\" align=\"left\" width=\"80\"/><br>\n",
    "<blockquote> <b>For Loop:</b>\n",
    "A for loop is used for iterating over a sequence (that is either a list, a tuple, a dictionary, a set, or a string).\n",
    "</blockquote></div>\n",
    "<div>\n",
    "<img src=\"images/syntax.png\" alt=\"preview\" align=\"left\" width=\"50\"/><br>    \n",
    "</div>\n",
    "\n",
    "```python\n",
    "for iterating_var in sequence:\n",
    "   statements(s)"
   ]
  },
  {
   "cell_type": "markdown",
   "id": "8fc7f429",
   "metadata": {},
   "source": [
    "### Example of a  for loop"
   ]
  },
  {
   "cell_type": "code",
   "execution_count": null,
   "id": "84743d97",
   "metadata": {},
   "outputs": [],
   "source": [
    "# Define a list of numbers\n",
    "numbers = [1, 2, 3, 4, 5]\n",
    "\n",
    "# Use a for loop to iterate through the list\n",
    "for number in numbers:\n",
    "    # Multiply each number by 2 and print it\n",
    "    result = number * 2\n",
    "    print(result)"
   ]
  },
  {
   "cell_type": "code",
   "execution_count": null,
   "id": "f0edd8cf",
   "metadata": {},
   "outputs": [],
   "source": [
    "days = ['Mon', 'Tue', 'Wed', 'Thu', 'Fri', 'Sat', 'Sun']\n",
    "\n",
    "for day in days:\n",
    "    print(day)"
   ]
  },
  {
   "cell_type": "markdown",
   "id": "8e471a82",
   "metadata": {},
   "source": [
    "### Range Function"
   ]
  },
  {
   "cell_type": "markdown",
   "id": "7dc07cae",
   "metadata": {},
   "source": [
    "<div><img src=\"images/preview.png\" alt=\"preview\" align=\"left\" width=\"100\"/><br>\n",
    "<blockquote> <b>Range function:</b>\n",
    "Python range() The range() function returns a sequence of numbers, starting from 0 by default, and increments by 1 (by default), and stops before a specified number.   \n",
    "</blockquote></div>\n",
    "<div>\n",
    "<img src=\"images/syntax.png\" alt=\"preview\" align=\"left\" width=\"50\"/><br>    \n",
    "</div>\n",
    "\n",
    "```python\n",
    "range(start, stop, step)\n",
    "```"
   ]
  },
  {
   "cell_type": "code",
   "execution_count": null,
   "id": "b98550dd",
   "metadata": {},
   "outputs": [],
   "source": [
    "for num in range(5):\n",
    "    print(num)"
   ]
  },
  {
   "cell_type": "code",
   "execution_count": null,
   "id": "63c9684b",
   "metadata": {},
   "outputs": [],
   "source": [
    "# Printing inclusive range\n",
    "start = -20\n",
    "stop  = 24 \n",
    "step  = 4\n",
    "#now stop is 6\n",
    "\n",
    "for i in range(start, stop, step):\n",
    "    print(i)"
   ]
  },
  {
   "cell_type": "code",
   "execution_count": null,
   "id": "c0ecb414",
   "metadata": {},
   "outputs": [],
   "source": [
    "# Iterating through a range\n",
    "vas = range(14)\n",
    "\n",
    "for num in vas:\n",
    "    print(num)"
   ]
  },
  {
   "cell_type": "code",
   "execution_count": null,
   "id": "82280080",
   "metadata": {},
   "outputs": [],
   "source": [
    "# Example of Range function\n",
    "name ='hfdsannnnnnnnnZrt'\n",
    "num_let = len(name)\n",
    "\n",
    "# print(num_let)\n",
    "\n",
    "for letter in name:\n",
    "    print(letter)\n",
    "\n",
    "# for i in range(num_let):  \n",
    "#     print(name[i])\n",
    "    "
   ]
  },
  {
   "cell_type": "markdown",
   "id": "72005579",
   "metadata": {},
   "source": [
    "## While Loops\n",
    "While loops keep running until a specified condition is met or when it meets a break statement."
   ]
  },
  {
   "cell_type": "code",
   "execution_count": null,
   "id": "5d868c3d",
   "metadata": {},
   "outputs": [],
   "source": [
    "x = 0\n",
    "while x < 20:\n",
    "    print(x)\n",
    "    x += 1"
   ]
  },
  {
   "cell_type": "code",
   "execution_count": null,
   "id": "07305a4b",
   "metadata": {},
   "outputs": [],
   "source": [
    "x = 0\n",
    "while x <= 10:\n",
    "    if x == 5:\n",
    "        break\n",
    "    print(x)\n",
    "    x += 1"
   ]
  },
  {
   "cell_type": "markdown",
   "id": "661878d8",
   "metadata": {},
   "source": [
    "Sure, let's create an exercise that incorporates an everyday scenario, making it more relatable and engaging, and we'll include the use of Python's `random` library to add dynamic elements to the task.\n",
    "\n",
    "### Python Exercise: Managing a Grocery List\n",
    "\n",
    "#### Objective\n",
    "You're planning a dinner party and need to prepare a shopping list. However, you want to make sure your list is manageable, focusing on the essentials and staying within budget. You decide to create a Python script to help organize your shopping list.\n",
    "\n",
    "#### Task Overview\n",
    "1. **Create a Shopping List**: Start with a list of items (strings) you're considering for the party.\n",
    "2. **Randomly Select Items**: Use Python's `random` library to randomly select a specific number of items to actually purchase.\n",
    "3. **Price Assignment**: Assign random prices to each selected item, simulating the cost.\n",
    "4. **Budget Check**: Ensure the total cost does not exceed a set budget. If it does, randomly remove items until you are within budget.\n",
    "\n",
    "#### Instructions\n",
    "1. **Initial List Creation**: Start with a predefined list of grocery items. For example: `[\"apples\", \"bananas\", \"carrots\", \"dates\", \"eggs\", \"flour\"]`.\n",
    "2. **Random Selection**: Use `random.sample()` to randomly select half of the items from the initial list.\n",
    "3. **Assign Random Prices**: For each selected item, use `random.randint()` to assign a price between 1 and 5 euros.\n",
    "4. **Total Cost and Budget Check**: Calculate the total cost. If the total exceeds 10 euros, randomly remove items until the total is under or equal to 10 euros.\n",
    "5. **Print the Final Shopping List and Total Cost**: Display the items you will purchase and the total cost.\n",
    "\n",
    "#### Steps to Follow\n",
    "1. Import the `random` library.\n",
    "2. Use `random.sample()` to select items for your shopping list.\n",
    "3. Assign random prices to each item using `random.randint(1, 5)`.\n",
    "4. Calculate the total cost of the selected items.\n",
    "5. If the total cost exceeds your budget (e.g., 10 euros), use `random.choice()` to remove items randomly until under budget.\n",
    "6. Print the final list of items and the total cost.\n",
    "\n",
    "This exercise will help you practice using lists, loops, and conditional statements, along with introducing you to Python's `random` library for adding randomness to your programs. It's a great way to see how Python can be applied to solve everyday problems and make decisions based on dynamic data."
   ]
  },
  {
   "cell_type": "code",
   "execution_count": null,
   "id": "11a8e1eb",
   "metadata": {},
   "outputs": [],
   "source": [
    "# Put your answer here\n"
   ]
  },
  {
   "cell_type": "markdown",
   "id": "874a1309",
   "metadata": {},
   "source": [
    "![The End](images/the_end.png)"
   ]
  },
  {
   "cell_type": "code",
   "execution_count": null,
   "id": "e397637e",
   "metadata": {},
   "outputs": [],
   "source": []
  }
 ],
 "metadata": {
  "kernelspec": {
   "display_name": "Python 3 (ipykernel)",
   "language": "python",
   "name": "python3"
  },
  "language_info": {
   "codemirror_mode": {
    "name": "ipython",
    "version": 3
   },
   "file_extension": ".py",
   "mimetype": "text/x-python",
   "name": "python",
   "nbconvert_exporter": "python",
   "pygments_lexer": "ipython3",
   "version": "3.9.12"
  },
  "varInspector": {
   "cols": {
    "lenName": 16,
    "lenType": 16,
    "lenVar": 40
   },
   "kernels_config": {
    "python": {
     "delete_cmd_postfix": "",
     "delete_cmd_prefix": "del ",
     "library": "var_list.py",
     "varRefreshCmd": "print(var_dic_list())"
    },
    "r": {
     "delete_cmd_postfix": ") ",
     "delete_cmd_prefix": "rm(",
     "library": "var_list.r",
     "varRefreshCmd": "cat(var_dic_list()) "
    }
   },
   "types_to_exclude": [
    "module",
    "function",
    "builtin_function_or_method",
    "instance",
    "_Feature"
   ],
   "window_display": false
  }
 },
 "nbformat": 4,
 "nbformat_minor": 5
}
