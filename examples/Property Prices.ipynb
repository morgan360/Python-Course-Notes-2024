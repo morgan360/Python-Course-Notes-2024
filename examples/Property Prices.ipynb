{
 "cells": [
  {
   "cell_type": "markdown",
   "metadata": {},
   "source": [
    "# Property Prices in Dublin"
   ]
  },
  {
   "cell_type": "code",
   "execution_count": 1,
   "metadata": {},
   "outputs": [],
   "source": [
    "# Import\n",
    "%matplotlib inline\n",
    "import pandas as pd\n",
    "import numpy as np\n",
    "import matplotlib.pyplot as plt\n",
    "import seaborn as sns \n",
    "sns.set(style=\"darkgrid\")"
   ]
  },
  {
   "cell_type": "code",
   "execution_count": 2,
   "metadata": {},
   "outputs": [],
   "source": [
    "df = pd.read_csv('../data/dublin_house_prices.csv')"
   ]
  },
  {
   "cell_type": "code",
   "execution_count": 3,
   "metadata": {},
   "outputs": [
    {
     "data": {
      "text/plain": [
       "(9853, 10)"
      ]
     },
     "execution_count": 3,
     "metadata": {},
     "output_type": "execute_result"
    }
   ],
   "source": [
    "df.shape"
   ]
  },
  {
   "cell_type": "code",
   "execution_count": 4,
   "metadata": {},
   "outputs": [
    {
     "data": {
      "text/html": [
       "<div>\n",
       "<style scoped>\n",
       "    .dataframe tbody tr th:only-of-type {\n",
       "        vertical-align: middle;\n",
       "    }\n",
       "\n",
       "    .dataframe tbody tr th {\n",
       "        vertical-align: top;\n",
       "    }\n",
       "\n",
       "    .dataframe thead th {\n",
       "        text-align: right;\n",
       "    }\n",
       "</style>\n",
       "<table border=\"1\" class=\"dataframe\">\n",
       "  <thead>\n",
       "    <tr style=\"text-align: right;\">\n",
       "      <th></th>\n",
       "      <th>_id</th>\n",
       "      <th>Date</th>\n",
       "      <th>Address</th>\n",
       "      <th>Postal_Code</th>\n",
       "      <th>County</th>\n",
       "      <th>Price</th>\n",
       "      <th>Not Full Market Price</th>\n",
       "      <th>VAT Exclusive</th>\n",
       "      <th>Description of Property</th>\n",
       "      <th>Property Size Description</th>\n",
       "    </tr>\n",
       "  </thead>\n",
       "  <tbody>\n",
       "    <tr>\n",
       "      <th>0</th>\n",
       "      <td>2025</td>\n",
       "      <td>2019-02-21T00:00:00</td>\n",
       "      <td>APT 8, THE GARDEN HOUSE, WATERFALL AVE</td>\n",
       "      <td>Dublin 3</td>\n",
       "      <td>Dublin</td>\n",
       "      <td>€6,750,000.00</td>\n",
       "      <td>No</td>\n",
       "      <td>No</td>\n",
       "      <td>Second-Hand Dwelling house /Apartment</td>\n",
       "      <td>NaN</td>\n",
       "    </tr>\n",
       "    <tr>\n",
       "      <th>1</th>\n",
       "      <td>4513</td>\n",
       "      <td>2019-04-16T00:00:00</td>\n",
       "      <td>49 AILESBURY RD, BALLSBRIDGE, DUBLIN 4</td>\n",
       "      <td>Dublin 4</td>\n",
       "      <td>Dublin</td>\n",
       "      <td>€6,750,000.00</td>\n",
       "      <td>No</td>\n",
       "      <td>No</td>\n",
       "      <td>Second-Hand Dwelling house /Apartment</td>\n",
       "      <td>NaN</td>\n",
       "    </tr>\n",
       "    <tr>\n",
       "      <th>2</th>\n",
       "      <td>9575</td>\n",
       "      <td>2019-08-01T00:00:00</td>\n",
       "      <td>Block 1 and Block 2, Belleville, Castleknock</td>\n",
       "      <td>Dublin 7</td>\n",
       "      <td>Dublin</td>\n",
       "      <td>€5,791,178.00</td>\n",
       "      <td>No</td>\n",
       "      <td>No</td>\n",
       "      <td>Second-Hand Dwelling house /Apartment</td>\n",
       "      <td>NaN</td>\n",
       "    </tr>\n",
       "    <tr>\n",
       "      <th>3</th>\n",
       "      <td>5013</td>\n",
       "      <td>2019-04-29T00:00:00</td>\n",
       "      <td>THE GREY GABLES, 34A GILFORD ROAD, SANDYMOUNT</td>\n",
       "      <td>NaN</td>\n",
       "      <td>Dublin</td>\n",
       "      <td>€5,425,000.00</td>\n",
       "      <td>No</td>\n",
       "      <td>No</td>\n",
       "      <td>Second-Hand Dwelling house /Apartment</td>\n",
       "      <td>NaN</td>\n",
       "    </tr>\n",
       "    <tr>\n",
       "      <th>4</th>\n",
       "      <td>4182</td>\n",
       "      <td>2019-04-10T00:00:00</td>\n",
       "      <td>29 TEMPLE RD, DARTRY, DUBLIN 6</td>\n",
       "      <td>Dublin 6</td>\n",
       "      <td>Dublin</td>\n",
       "      <td>€4,800,000.00</td>\n",
       "      <td>No</td>\n",
       "      <td>No</td>\n",
       "      <td>Second-Hand Dwelling house /Apartment</td>\n",
       "      <td>NaN</td>\n",
       "    </tr>\n",
       "  </tbody>\n",
       "</table>\n",
       "</div>"
      ],
      "text/plain": [
       "    _id                 Date                                        Address  \\\n",
       "0  2025  2019-02-21T00:00:00         APT 8, THE GARDEN HOUSE, WATERFALL AVE   \n",
       "1  4513  2019-04-16T00:00:00         49 AILESBURY RD, BALLSBRIDGE, DUBLIN 4   \n",
       "2  9575  2019-08-01T00:00:00   Block 1 and Block 2, Belleville, Castleknock   \n",
       "3  5013  2019-04-29T00:00:00  THE GREY GABLES, 34A GILFORD ROAD, SANDYMOUNT   \n",
       "4  4182  2019-04-10T00:00:00                 29 TEMPLE RD, DARTRY, DUBLIN 6   \n",
       "\n",
       "  Postal_Code  County          Price Not Full Market Price VAT Exclusive  \\\n",
       "0    Dublin 3  Dublin  €6,750,000.00                    No            No   \n",
       "1    Dublin 4  Dublin  €6,750,000.00                    No            No   \n",
       "2    Dublin 7  Dublin  €5,791,178.00                    No            No   \n",
       "3         NaN  Dublin  €5,425,000.00                    No            No   \n",
       "4    Dublin 6  Dublin  €4,800,000.00                    No            No   \n",
       "\n",
       "                 Description of Property Property Size Description  \n",
       "0  Second-Hand Dwelling house /Apartment                       NaN  \n",
       "1  Second-Hand Dwelling house /Apartment                       NaN  \n",
       "2  Second-Hand Dwelling house /Apartment                       NaN  \n",
       "3  Second-Hand Dwelling house /Apartment                       NaN  \n",
       "4  Second-Hand Dwelling house /Apartment                       NaN  "
      ]
     },
     "execution_count": 4,
     "metadata": {},
     "output_type": "execute_result"
    }
   ],
   "source": [
    "df.head()"
   ]
  },
  {
   "cell_type": "code",
   "execution_count": 5,
   "metadata": {
    "scrolled": true
   },
   "outputs": [
    {
     "data": {
      "text/plain": [
       "_id                           int64\n",
       "Date                         object\n",
       "Address                      object\n",
       "Postal_Code                  object\n",
       "County                       object\n",
       "Price                        object\n",
       "Not Full Market Price        object\n",
       "VAT Exclusive                object\n",
       "Description of Property      object\n",
       "Property Size Description    object\n",
       "dtype: object"
      ]
     },
     "execution_count": 5,
     "metadata": {},
     "output_type": "execute_result"
    }
   ],
   "source": [
    "\n",
    "df.dtypes"
   ]
  },
  {
   "cell_type": "code",
   "execution_count": 6,
   "metadata": {
    "scrolled": true
   },
   "outputs": [
    {
     "data": {
      "text/html": [
       "<div>\n",
       "<style scoped>\n",
       "    .dataframe tbody tr th:only-of-type {\n",
       "        vertical-align: middle;\n",
       "    }\n",
       "\n",
       "    .dataframe tbody tr th {\n",
       "        vertical-align: top;\n",
       "    }\n",
       "\n",
       "    .dataframe thead th {\n",
       "        text-align: right;\n",
       "    }\n",
       "</style>\n",
       "<table border=\"1\" class=\"dataframe\">\n",
       "  <thead>\n",
       "    <tr style=\"text-align: right;\">\n",
       "      <th></th>\n",
       "      <th>_id</th>\n",
       "      <th>Date</th>\n",
       "      <th>Address</th>\n",
       "      <th>Postal_Code</th>\n",
       "      <th>County</th>\n",
       "      <th>Price</th>\n",
       "      <th>Not Full Market Price</th>\n",
       "      <th>VAT Exclusive</th>\n",
       "      <th>Description of Property</th>\n",
       "      <th>Property Size Description</th>\n",
       "    </tr>\n",
       "  </thead>\n",
       "  <tbody>\n",
       "    <tr>\n",
       "      <th>0</th>\n",
       "      <td>2025</td>\n",
       "      <td>2019-02-21T00:00:00</td>\n",
       "      <td>APT 8, THE GARDEN HOUSE, WATERFALL AVE</td>\n",
       "      <td>Dublin 3</td>\n",
       "      <td>Dublin</td>\n",
       "      <td>€6,750,000.00</td>\n",
       "      <td>No</td>\n",
       "      <td>No</td>\n",
       "      <td>Second-Hand Dwelling house /Apartment</td>\n",
       "      <td>NaN</td>\n",
       "    </tr>\n",
       "    <tr>\n",
       "      <th>1</th>\n",
       "      <td>4513</td>\n",
       "      <td>2019-04-16T00:00:00</td>\n",
       "      <td>49 AILESBURY RD, BALLSBRIDGE, DUBLIN 4</td>\n",
       "      <td>Dublin 4</td>\n",
       "      <td>Dublin</td>\n",
       "      <td>€6,750,000.00</td>\n",
       "      <td>No</td>\n",
       "      <td>No</td>\n",
       "      <td>Second-Hand Dwelling house /Apartment</td>\n",
       "      <td>NaN</td>\n",
       "    </tr>\n",
       "    <tr>\n",
       "      <th>2</th>\n",
       "      <td>9575</td>\n",
       "      <td>2019-08-01T00:00:00</td>\n",
       "      <td>Block 1 and Block 2, Belleville, Castleknock</td>\n",
       "      <td>Dublin 7</td>\n",
       "      <td>Dublin</td>\n",
       "      <td>€5,791,178.00</td>\n",
       "      <td>No</td>\n",
       "      <td>No</td>\n",
       "      <td>Second-Hand Dwelling house /Apartment</td>\n",
       "      <td>NaN</td>\n",
       "    </tr>\n",
       "    <tr>\n",
       "      <th>3</th>\n",
       "      <td>5013</td>\n",
       "      <td>2019-04-29T00:00:00</td>\n",
       "      <td>THE GREY GABLES, 34A GILFORD ROAD, SANDYMOUNT</td>\n",
       "      <td>NaN</td>\n",
       "      <td>Dublin</td>\n",
       "      <td>€5,425,000.00</td>\n",
       "      <td>No</td>\n",
       "      <td>No</td>\n",
       "      <td>Second-Hand Dwelling house /Apartment</td>\n",
       "      <td>NaN</td>\n",
       "    </tr>\n",
       "    <tr>\n",
       "      <th>4</th>\n",
       "      <td>4182</td>\n",
       "      <td>2019-04-10T00:00:00</td>\n",
       "      <td>29 TEMPLE RD, DARTRY, DUBLIN 6</td>\n",
       "      <td>Dublin 6</td>\n",
       "      <td>Dublin</td>\n",
       "      <td>€4,800,000.00</td>\n",
       "      <td>No</td>\n",
       "      <td>No</td>\n",
       "      <td>Second-Hand Dwelling house /Apartment</td>\n",
       "      <td>NaN</td>\n",
       "    </tr>\n",
       "  </tbody>\n",
       "</table>\n",
       "</div>"
      ],
      "text/plain": [
       "    _id                 Date                                        Address  \\\n",
       "0  2025  2019-02-21T00:00:00         APT 8, THE GARDEN HOUSE, WATERFALL AVE   \n",
       "1  4513  2019-04-16T00:00:00         49 AILESBURY RD, BALLSBRIDGE, DUBLIN 4   \n",
       "2  9575  2019-08-01T00:00:00   Block 1 and Block 2, Belleville, Castleknock   \n",
       "3  5013  2019-04-29T00:00:00  THE GREY GABLES, 34A GILFORD ROAD, SANDYMOUNT   \n",
       "4  4182  2019-04-10T00:00:00                 29 TEMPLE RD, DARTRY, DUBLIN 6   \n",
       "\n",
       "  Postal_Code  County          Price Not Full Market Price VAT Exclusive  \\\n",
       "0    Dublin 3  Dublin  €6,750,000.00                    No            No   \n",
       "1    Dublin 4  Dublin  €6,750,000.00                    No            No   \n",
       "2    Dublin 7  Dublin  €5,791,178.00                    No            No   \n",
       "3         NaN  Dublin  €5,425,000.00                    No            No   \n",
       "4    Dublin 6  Dublin  €4,800,000.00                    No            No   \n",
       "\n",
       "                 Description of Property Property Size Description  \n",
       "0  Second-Hand Dwelling house /Apartment                       NaN  \n",
       "1  Second-Hand Dwelling house /Apartment                       NaN  \n",
       "2  Second-Hand Dwelling house /Apartment                       NaN  \n",
       "3  Second-Hand Dwelling house /Apartment                       NaN  \n",
       "4  Second-Hand Dwelling house /Apartment                       NaN  "
      ]
     },
     "execution_count": 6,
     "metadata": {},
     "output_type": "execute_result"
    }
   ],
   "source": [
    "df.head()"
   ]
  },
  {
   "cell_type": "code",
   "execution_count": 8,
   "metadata": {},
   "outputs": [
    {
     "data": {
      "text/plain": [
       "Dublin 15    847\n",
       "Dublin 24    573\n",
       "Dublin 18    487\n",
       "Dublin 11    402\n",
       "Dublin 9     398\n",
       "Dublin 8     376\n",
       "Dublin 7     373\n",
       "Dublin 13    361\n",
       "Dublin 12    330\n",
       "Dublin 4     323\n",
       "Dublin 16    298\n",
       "Dublin 5     278\n",
       "Dublin 14    261\n",
       "Dublin 3     258\n",
       "Dublin 6     247\n",
       "Dublin 22    225\n",
       "Dublin 1     160\n",
       "Dublin 2      97\n",
       "Dublin 10     80\n",
       "Dublin 20     67\n",
       "Dublin 17     60\n",
       "Dublin 6w     18\n",
       "Name: Postal_Code, dtype: int64"
      ]
     },
     "execution_count": 8,
     "metadata": {},
     "output_type": "execute_result"
    }
   ],
   "source": [
    "df[\"Postal_Code\"].value_counts()"
   ]
  },
  {
   "cell_type": "code",
   "execution_count": 12,
   "metadata": {},
   "outputs": [],
   "source": [
    "num_price = df['Price'].replace( '[\\€,) ]+','',regex=True ).replace( '[(]','-',     regex=True ).replace( '', 'NaN',     regex=True ).astype(float) \n",
    "df['num_price'] = num_price"
   ]
  },
  {
   "cell_type": "code",
   "execution_count": 13,
   "metadata": {},
   "outputs": [
    {
     "data": {
      "text/html": [
       "<div>\n",
       "<style scoped>\n",
       "    .dataframe tbody tr th:only-of-type {\n",
       "        vertical-align: middle;\n",
       "    }\n",
       "\n",
       "    .dataframe tbody tr th {\n",
       "        vertical-align: top;\n",
       "    }\n",
       "\n",
       "    .dataframe thead th {\n",
       "        text-align: right;\n",
       "    }\n",
       "</style>\n",
       "<table border=\"1\" class=\"dataframe\">\n",
       "  <thead>\n",
       "    <tr style=\"text-align: right;\">\n",
       "      <th></th>\n",
       "      <th>_id</th>\n",
       "      <th>Date</th>\n",
       "      <th>Address</th>\n",
       "      <th>Postal_Code</th>\n",
       "      <th>County</th>\n",
       "      <th>Price</th>\n",
       "      <th>Not Full Market Price</th>\n",
       "      <th>VAT Exclusive</th>\n",
       "      <th>Description of Property</th>\n",
       "      <th>Property Size Description</th>\n",
       "      <th>num_price</th>\n",
       "    </tr>\n",
       "  </thead>\n",
       "  <tbody>\n",
       "    <tr>\n",
       "      <th>0</th>\n",
       "      <td>2025</td>\n",
       "      <td>2019-02-21T00:00:00</td>\n",
       "      <td>APT 8, THE GARDEN HOUSE, WATERFALL AVE</td>\n",
       "      <td>Dublin 3</td>\n",
       "      <td>Dublin</td>\n",
       "      <td>6750000.00</td>\n",
       "      <td>No</td>\n",
       "      <td>No</td>\n",
       "      <td>Second-Hand Dwelling house /Apartment</td>\n",
       "      <td>NaN</td>\n",
       "      <td>6750000.00</td>\n",
       "    </tr>\n",
       "    <tr>\n",
       "      <th>1</th>\n",
       "      <td>4513</td>\n",
       "      <td>2019-04-16T00:00:00</td>\n",
       "      <td>49 AILESBURY RD, BALLSBRIDGE, DUBLIN 4</td>\n",
       "      <td>Dublin 4</td>\n",
       "      <td>Dublin</td>\n",
       "      <td>6750000.00</td>\n",
       "      <td>No</td>\n",
       "      <td>No</td>\n",
       "      <td>Second-Hand Dwelling house /Apartment</td>\n",
       "      <td>NaN</td>\n",
       "      <td>6750000.00</td>\n",
       "    </tr>\n",
       "    <tr>\n",
       "      <th>2</th>\n",
       "      <td>9575</td>\n",
       "      <td>2019-08-01T00:00:00</td>\n",
       "      <td>Block 1 and Block 2, Belleville, Castleknock</td>\n",
       "      <td>Dublin 7</td>\n",
       "      <td>Dublin</td>\n",
       "      <td>5791178.00</td>\n",
       "      <td>No</td>\n",
       "      <td>No</td>\n",
       "      <td>Second-Hand Dwelling house /Apartment</td>\n",
       "      <td>NaN</td>\n",
       "      <td>5791178.00</td>\n",
       "    </tr>\n",
       "    <tr>\n",
       "      <th>3</th>\n",
       "      <td>5013</td>\n",
       "      <td>2019-04-29T00:00:00</td>\n",
       "      <td>THE GREY GABLES, 34A GILFORD ROAD, SANDYMOUNT</td>\n",
       "      <td>NaN</td>\n",
       "      <td>Dublin</td>\n",
       "      <td>5425000.00</td>\n",
       "      <td>No</td>\n",
       "      <td>No</td>\n",
       "      <td>Second-Hand Dwelling house /Apartment</td>\n",
       "      <td>NaN</td>\n",
       "      <td>5425000.00</td>\n",
       "    </tr>\n",
       "    <tr>\n",
       "      <th>4</th>\n",
       "      <td>4182</td>\n",
       "      <td>2019-04-10T00:00:00</td>\n",
       "      <td>29 TEMPLE RD, DARTRY, DUBLIN 6</td>\n",
       "      <td>Dublin 6</td>\n",
       "      <td>Dublin</td>\n",
       "      <td>4800000.00</td>\n",
       "      <td>No</td>\n",
       "      <td>No</td>\n",
       "      <td>Second-Hand Dwelling house /Apartment</td>\n",
       "      <td>NaN</td>\n",
       "      <td>4800000.00</td>\n",
       "    </tr>\n",
       "    <tr>\n",
       "      <th>...</th>\n",
       "      <td>...</td>\n",
       "      <td>...</td>\n",
       "      <td>...</td>\n",
       "      <td>...</td>\n",
       "      <td>...</td>\n",
       "      <td>...</td>\n",
       "      <td>...</td>\n",
       "      <td>...</td>\n",
       "      <td>...</td>\n",
       "      <td>...</td>\n",
       "      <td>...</td>\n",
       "    </tr>\n",
       "    <tr>\n",
       "      <th>9848</th>\n",
       "      <td>2324</td>\n",
       "      <td>2019-02-27T00:00:00</td>\n",
       "      <td>65 WHITECHURCH WAY, BALLYBODEN, DUBLIN</td>\n",
       "      <td>Dublin 16</td>\n",
       "      <td>Dublin</td>\n",
       "      <td>12463.22</td>\n",
       "      <td>Yes</td>\n",
       "      <td>No</td>\n",
       "      <td>Second-Hand Dwelling house /Apartment</td>\n",
       "      <td>NaN</td>\n",
       "      <td>12463.22</td>\n",
       "    </tr>\n",
       "    <tr>\n",
       "      <th>9849</th>\n",
       "      <td>469</td>\n",
       "      <td>2019-01-18T00:00:00</td>\n",
       "      <td>4 CAMBRIDGE TERRACE, RANELAGH, DUBLIN 6</td>\n",
       "      <td>Dublin 6</td>\n",
       "      <td>Dublin</td>\n",
       "      <td>10000.00</td>\n",
       "      <td>No</td>\n",
       "      <td>No</td>\n",
       "      <td>Second-Hand Dwelling house /Apartment</td>\n",
       "      <td>NaN</td>\n",
       "      <td>10000.00</td>\n",
       "    </tr>\n",
       "    <tr>\n",
       "      <th>9850</th>\n",
       "      <td>1519</td>\n",
       "      <td>2019-02-12T00:00:00</td>\n",
       "      <td>67 GRANGE PARK RD, RAHENY, DUBLIN 5</td>\n",
       "      <td>Dublin 5</td>\n",
       "      <td>Dublin</td>\n",
       "      <td>8000.00</td>\n",
       "      <td>No</td>\n",
       "      <td>No</td>\n",
       "      <td>Second-Hand Dwelling house /Apartment</td>\n",
       "      <td>NaN</td>\n",
       "      <td>8000.00</td>\n",
       "    </tr>\n",
       "    <tr>\n",
       "      <th>9851</th>\n",
       "      <td>3493</td>\n",
       "      <td>2019-03-27T00:00:00</td>\n",
       "      <td>20 WATERSIDE GROVE, SWORDS ROAD, MALAHIDE</td>\n",
       "      <td>NaN</td>\n",
       "      <td>Dublin</td>\n",
       "      <td>8000.00</td>\n",
       "      <td>No</td>\n",
       "      <td>No</td>\n",
       "      <td>Second-Hand Dwelling house /Apartment</td>\n",
       "      <td>NaN</td>\n",
       "      <td>8000.00</td>\n",
       "    </tr>\n",
       "    <tr>\n",
       "      <th>9852</th>\n",
       "      <td>6168</td>\n",
       "      <td>2019-05-24T00:00:00</td>\n",
       "      <td>3 ARBOUR HILL, STONEYBATTER, DUBLIN 7</td>\n",
       "      <td>Dublin 7</td>\n",
       "      <td>Dublin</td>\n",
       "      <td>5900.00</td>\n",
       "      <td>No</td>\n",
       "      <td>No</td>\n",
       "      <td>Second-Hand Dwelling house /Apartment</td>\n",
       "      <td>NaN</td>\n",
       "      <td>5900.00</td>\n",
       "    </tr>\n",
       "  </tbody>\n",
       "</table>\n",
       "<p>9853 rows × 11 columns</p>\n",
       "</div>"
      ],
      "text/plain": [
       "       _id                 Date  \\\n",
       "0     2025  2019-02-21T00:00:00   \n",
       "1     4513  2019-04-16T00:00:00   \n",
       "2     9575  2019-08-01T00:00:00   \n",
       "3     5013  2019-04-29T00:00:00   \n",
       "4     4182  2019-04-10T00:00:00   \n",
       "...    ...                  ...   \n",
       "9848  2324  2019-02-27T00:00:00   \n",
       "9849   469  2019-01-18T00:00:00   \n",
       "9850  1519  2019-02-12T00:00:00   \n",
       "9851  3493  2019-03-27T00:00:00   \n",
       "9852  6168  2019-05-24T00:00:00   \n",
       "\n",
       "                                            Address Postal_Code  County  \\\n",
       "0            APT 8, THE GARDEN HOUSE, WATERFALL AVE    Dublin 3  Dublin   \n",
       "1            49 AILESBURY RD, BALLSBRIDGE, DUBLIN 4    Dublin 4  Dublin   \n",
       "2      Block 1 and Block 2, Belleville, Castleknock    Dublin 7  Dublin   \n",
       "3     THE GREY GABLES, 34A GILFORD ROAD, SANDYMOUNT         NaN  Dublin   \n",
       "4                    29 TEMPLE RD, DARTRY, DUBLIN 6    Dublin 6  Dublin   \n",
       "...                                             ...         ...     ...   \n",
       "9848         65 WHITECHURCH WAY, BALLYBODEN, DUBLIN   Dublin 16  Dublin   \n",
       "9849        4 CAMBRIDGE TERRACE, RANELAGH, DUBLIN 6    Dublin 6  Dublin   \n",
       "9850            67 GRANGE PARK RD, RAHENY, DUBLIN 5    Dublin 5  Dublin   \n",
       "9851      20 WATERSIDE GROVE, SWORDS ROAD, MALAHIDE         NaN  Dublin   \n",
       "9852          3 ARBOUR HILL, STONEYBATTER, DUBLIN 7    Dublin 7  Dublin   \n",
       "\n",
       "           Price Not Full Market Price VAT Exclusive  \\\n",
       "0     6750000.00                    No            No   \n",
       "1     6750000.00                    No            No   \n",
       "2     5791178.00                    No            No   \n",
       "3     5425000.00                    No            No   \n",
       "4     4800000.00                    No            No   \n",
       "...          ...                   ...           ...   \n",
       "9848    12463.22                   Yes            No   \n",
       "9849    10000.00                    No            No   \n",
       "9850     8000.00                    No            No   \n",
       "9851     8000.00                    No            No   \n",
       "9852     5900.00                    No            No   \n",
       "\n",
       "                    Description of Property Property Size Description  \\\n",
       "0     Second-Hand Dwelling house /Apartment                       NaN   \n",
       "1     Second-Hand Dwelling house /Apartment                       NaN   \n",
       "2     Second-Hand Dwelling house /Apartment                       NaN   \n",
       "3     Second-Hand Dwelling house /Apartment                       NaN   \n",
       "4     Second-Hand Dwelling house /Apartment                       NaN   \n",
       "...                                     ...                       ...   \n",
       "9848  Second-Hand Dwelling house /Apartment                       NaN   \n",
       "9849  Second-Hand Dwelling house /Apartment                       NaN   \n",
       "9850  Second-Hand Dwelling house /Apartment                       NaN   \n",
       "9851  Second-Hand Dwelling house /Apartment                       NaN   \n",
       "9852  Second-Hand Dwelling house /Apartment                       NaN   \n",
       "\n",
       "       num_price  \n",
       "0     6750000.00  \n",
       "1     6750000.00  \n",
       "2     5791178.00  \n",
       "3     5425000.00  \n",
       "4     4800000.00  \n",
       "...          ...  \n",
       "9848    12463.22  \n",
       "9849    10000.00  \n",
       "9850     8000.00  \n",
       "9851     8000.00  \n",
       "9852     5900.00  \n",
       "\n",
       "[9853 rows x 11 columns]"
      ]
     },
     "execution_count": 13,
     "metadata": {},
     "output_type": "execute_result"
    }
   ],
   "source": [
    "df"
   ]
  },
  {
   "cell_type": "code",
   "execution_count": 9,
   "metadata": {},
   "outputs": [
    {
     "data": {
      "text/html": [
       "<div>\n",
       "<style scoped>\n",
       "    .dataframe tbody tr th:only-of-type {\n",
       "        vertical-align: middle;\n",
       "    }\n",
       "\n",
       "    .dataframe tbody tr th {\n",
       "        vertical-align: top;\n",
       "    }\n",
       "\n",
       "    .dataframe thead th {\n",
       "        text-align: right;\n",
       "    }\n",
       "</style>\n",
       "<table border=\"1\" class=\"dataframe\">\n",
       "  <thead>\n",
       "    <tr style=\"text-align: right;\">\n",
       "      <th></th>\n",
       "      <th>_id</th>\n",
       "      <th>Price</th>\n",
       "    </tr>\n",
       "  </thead>\n",
       "  <tbody>\n",
       "    <tr>\n",
       "      <th>count</th>\n",
       "      <td>9853.000000</td>\n",
       "      <td>9.853000e+03</td>\n",
       "    </tr>\n",
       "    <tr>\n",
       "      <th>mean</th>\n",
       "      <td>4933.777834</td>\n",
       "      <td>4.160314e+05</td>\n",
       "    </tr>\n",
       "    <tr>\n",
       "      <th>std</th>\n",
       "      <td>2850.024868</td>\n",
       "      <td>3.256552e+05</td>\n",
       "    </tr>\n",
       "    <tr>\n",
       "      <th>min</th>\n",
       "      <td>1.000000</td>\n",
       "      <td>5.900000e+03</td>\n",
       "    </tr>\n",
       "    <tr>\n",
       "      <th>25%</th>\n",
       "      <td>2465.000000</td>\n",
       "      <td>2.650000e+05</td>\n",
       "    </tr>\n",
       "    <tr>\n",
       "      <th>50%</th>\n",
       "      <td>4935.000000</td>\n",
       "      <td>3.380000e+05</td>\n",
       "    </tr>\n",
       "    <tr>\n",
       "      <th>75%</th>\n",
       "      <td>7400.000000</td>\n",
       "      <td>4.581490e+05</td>\n",
       "    </tr>\n",
       "    <tr>\n",
       "      <th>max</th>\n",
       "      <td>9880.000000</td>\n",
       "      <td>6.750000e+06</td>\n",
       "    </tr>\n",
       "  </tbody>\n",
       "</table>\n",
       "</div>"
      ],
      "text/plain": [
       "               _id         Price\n",
       "count  9853.000000  9.853000e+03\n",
       "mean   4933.777834  4.160314e+05\n",
       "std    2850.024868  3.256552e+05\n",
       "min       1.000000  5.900000e+03\n",
       "25%    2465.000000  2.650000e+05\n",
       "50%    4935.000000  3.380000e+05\n",
       "75%    7400.000000  4.581490e+05\n",
       "max    9880.000000  6.750000e+06"
      ]
     },
     "execution_count": 9,
     "metadata": {},
     "output_type": "execute_result"
    }
   ],
   "source": [
    "df['Price'] = df['Price'].replace( '[\\€,) ]+','',regex=True ).replace( '[(]','-',     regex=True ).replace( '', 'NaN',     regex=True ).astype(float) \n",
    "df.describe()\n"
   ]
  },
  {
   "cell_type": "code",
   "execution_count": 10,
   "metadata": {},
   "outputs": [
    {
     "data": {
      "text/html": [
       "<div>\n",
       "<style scoped>\n",
       "    .dataframe tbody tr th:only-of-type {\n",
       "        vertical-align: middle;\n",
       "    }\n",
       "\n",
       "    .dataframe tbody tr th {\n",
       "        vertical-align: top;\n",
       "    }\n",
       "\n",
       "    .dataframe thead th {\n",
       "        text-align: right;\n",
       "    }\n",
       "</style>\n",
       "<table border=\"1\" class=\"dataframe\">\n",
       "  <thead>\n",
       "    <tr style=\"text-align: right;\">\n",
       "      <th></th>\n",
       "      <th>_id</th>\n",
       "      <th>Price</th>\n",
       "    </tr>\n",
       "  </thead>\n",
       "  <tbody>\n",
       "    <tr>\n",
       "      <th>count</th>\n",
       "      <td>9853.000000</td>\n",
       "      <td>9.853000e+03</td>\n",
       "    </tr>\n",
       "    <tr>\n",
       "      <th>mean</th>\n",
       "      <td>4933.777834</td>\n",
       "      <td>4.160314e+05</td>\n",
       "    </tr>\n",
       "    <tr>\n",
       "      <th>std</th>\n",
       "      <td>2850.024868</td>\n",
       "      <td>3.256552e+05</td>\n",
       "    </tr>\n",
       "    <tr>\n",
       "      <th>min</th>\n",
       "      <td>1.000000</td>\n",
       "      <td>5.900000e+03</td>\n",
       "    </tr>\n",
       "    <tr>\n",
       "      <th>25%</th>\n",
       "      <td>2465.000000</td>\n",
       "      <td>2.650000e+05</td>\n",
       "    </tr>\n",
       "    <tr>\n",
       "      <th>50%</th>\n",
       "      <td>4935.000000</td>\n",
       "      <td>3.380000e+05</td>\n",
       "    </tr>\n",
       "    <tr>\n",
       "      <th>75%</th>\n",
       "      <td>7400.000000</td>\n",
       "      <td>4.581490e+05</td>\n",
       "    </tr>\n",
       "    <tr>\n",
       "      <th>max</th>\n",
       "      <td>9880.000000</td>\n",
       "      <td>6.750000e+06</td>\n",
       "    </tr>\n",
       "  </tbody>\n",
       "</table>\n",
       "</div>"
      ],
      "text/plain": [
       "               _id         Price\n",
       "count  9853.000000  9.853000e+03\n",
       "mean   4933.777834  4.160314e+05\n",
       "std    2850.024868  3.256552e+05\n",
       "min       1.000000  5.900000e+03\n",
       "25%    2465.000000  2.650000e+05\n",
       "50%    4935.000000  3.380000e+05\n",
       "75%    7400.000000  4.581490e+05\n",
       "max    9880.000000  6.750000e+06"
      ]
     },
     "execution_count": 10,
     "metadata": {},
     "output_type": "execute_result"
    }
   ],
   "source": [
    "df.describe()"
   ]
  },
  {
   "cell_type": "code",
   "execution_count": 14,
   "metadata": {
    "scrolled": true
   },
   "outputs": [
    {
     "data": {
      "image/png": "[encoded data removed]",
      "text/plain": [
       "<Figure size 1080x1080 with 1 Axes>"
      ]
     },
     "metadata": {},
     "output_type": "display_data"
    }
   ],
   "source": [
    "df.boxplot(column=['num_price'], return_type='axes',figsize=(15,15))\n",
    "\n",
    "# show plot \n",
    "plt.show() \n"
   ]
  },
  {
   "cell_type": "code",
   "execution_count": 15,
   "metadata": {
    "scrolled": false
   },
   "outputs": [
    {
     "data": {
      "text/plain": [
       "<AxesSubplot:xlabel='num_price', ylabel='Postal_Code'>"
      ]
     },
     "execution_count": 15,
     "metadata": {},
     "output_type": "execute_result"
    },
    {
     "data": {
      "image/png": "[encoded data removed]",
      "text/plain": [
       "<Figure size 864x7200 with 1 Axes>"
      ]
     },
     "metadata": {},
     "output_type": "display_data"
    }
   ],
   "source": [
    "plt.figure(figsize=(12,100))\n",
    "sns.boxplot( x=df[\"num_price\"], y=df[\"Postal_Code\"], palette=\"Blues\", width=0.3)"
   ]
  },
  {
   "cell_type": "code",
   "execution_count": null,
   "metadata": {},
   "outputs": [],
   "source": [
    "filt = (df['Postal_Code']=='Dublin 1')"
   ]
  },
  {
   "cell_type": "code",
   "execution_count": null,
   "metadata": {},
   "outputs": [],
   "source": [
    "df[filt]"
   ]
  },
  {
   "cell_type": "code",
   "execution_count": null,
   "metadata": {
    "scrolled": true
   },
   "outputs": [],
   "source": [
    "filt = ((df['Postal_Code']=='Dublin 8') | (df['Postal_Code']=='Dublin 6')) & (df['num_price'] <= 3000000)\n",
    "df1 = df.loc[filt, ['Postal_Code', 'Price','num_price']]"
   ]
  },
  {
   "cell_type": "code",
   "execution_count": null,
   "metadata": {},
   "outputs": [],
   "source": [
    "df1"
   ]
  },
  {
   "cell_type": "code",
   "execution_count": null,
   "metadata": {},
   "outputs": [],
   "source": [
    "df1\n",
    "df1.boxplot(column='num_price',by='Postal_Code', figsize=(15,15))"
   ]
  },
  {
   "cell_type": "code",
   "execution_count": null,
   "metadata": {},
   "outputs": [],
   "source": [
    "sns.set_style(\"whitegrid\")\n",
    "plt.figure(figsize=(8,10))\n",
    "sns.boxplot( y=df1[\"num_price\"] )\n",
    "plt.title(\"Dublin 8\")\n",
    "plt.ylabel(\"House Prices Euro\") \n",
    "plt.tight_layout()\n",
    "plt.show()\n"
   ]
  },
  {
   "cell_type": "code",
   "execution_count": null,
   "metadata": {},
   "outputs": [],
   "source": [
    "df1.boxplot(column='num_price',by='Postal_Code', figsize=(15,15))"
   ]
  },
  {
   "cell_type": "code",
   "execution_count": null,
   "metadata": {},
   "outputs": [],
   "source": [
    "plt.figure(figsize=(8,10))\n",
    "sns.boxplot( x=df1[\"Postal_Code\"], y=df1[\"num_price\"], palette=\"Blues\", width=0.3)"
   ]
  },
  {
   "cell_type": "code",
   "execution_count": null,
   "metadata": {
    "scrolled": true
   },
   "outputs": [],
   "source": [
    "import matplotlib.ticker as ticker\n",
    "plt.figure(figsize=(15,10))\n",
    "\n",
    "ax=sns.boxplot( x=df1[\"num_price\"], y=df1[\"Postal_Code\"], palette=\"Blues\", width=0.3)\n",
    "ax.xaxis.set_major_locator(ticker.MultipleLocator(500000))\n",
    "ax.xaxis.set_major_formatter(ticker.ScalarFormatter())\n",
    "#set_style(\"ticks\", {\"xtick.major.size\": 8, \"ytick.major.size\": 8})"
   ]
  },
  {
   "cell_type": "code",
   "execution_count": 1,
   "metadata": {},
   "outputs": [
    {
     "ename": "NameError",
     "evalue": "name 'plt' is not defined",
     "output_type": "error",
     "traceback": [
      "\u001b[0;31m---------------------------------------------------------------------------\u001b[0m",
      "\u001b[0;31mNameError\u001b[0m                                 Traceback (most recent call last)",
      "Input \u001b[0;32mIn [1]\u001b[0m, in \u001b[0;36m<cell line: 7>\u001b[0;34m()\u001b[0m\n\u001b[1;32m      2\u001b[0m a4_dims \u001b[38;5;241m=\u001b[39m (\u001b[38;5;241m11.7\u001b[39m, \u001b[38;5;241m8.27\u001b[39m)\n\u001b[1;32m      4\u001b[0m \u001b[38;5;66;03m#plt.figure(figsize=(15,10))\u001b[39;00m\n\u001b[1;32m      5\u001b[0m \n\u001b[1;32m      6\u001b[0m \u001b[38;5;66;03m# Cut the window in 2 parts\u001b[39;00m\n\u001b[0;32m----> 7\u001b[0m f, (ax_box, ax_hist) \u001b[38;5;241m=\u001b[39m \u001b[43mplt\u001b[49m\u001b[38;5;241m.\u001b[39msubplots(\u001b[38;5;241m2\u001b[39m, sharex\u001b[38;5;241m=\u001b[39m\u001b[38;5;28;01mTrue\u001b[39;00m,figsize\u001b[38;5;241m=\u001b[39ma4_dims, gridspec_kw\u001b[38;5;241m=\u001b[39m{\u001b[38;5;124m\"\u001b[39m\u001b[38;5;124mheight_ratios\u001b[39m\u001b[38;5;124m\"\u001b[39m: (\u001b[38;5;241m.15\u001b[39m, \u001b[38;5;241m.85\u001b[39m)})\n\u001b[1;32m      9\u001b[0m \u001b[38;5;66;03m# Add a graph in each part\u001b[39;00m\n\u001b[1;32m     10\u001b[0m x\u001b[38;5;241m=\u001b[39m sns\u001b[38;5;241m.\u001b[39mboxplot(df1[\u001b[38;5;124m\"\u001b[39m\u001b[38;5;124mnum_price\u001b[39m\u001b[38;5;124m\"\u001b[39m], ax\u001b[38;5;241m=\u001b[39max_box)\n",
      "\u001b[0;31mNameError\u001b[0m: name 'plt' is not defined"
     ]
    }
   ],
   "source": [
    "# Size in Inches\n",
    "a4_dims = (11.7, 8.27)\n",
    "\n",
    "#plt.figure(figsize=(15,10))\n",
    "\n",
    "# Cut the window in 2 parts\n",
    "f, (ax_box, ax_hist) = plt.subplots(2, sharex=True,figsize=a4_dims, gridspec_kw={\"height_ratios\": (.15, .85)})\n",
    " \n",
    "# Add a graph in each part\n",
    "x= sns.boxplot(df1[\"num_price\"], ax=ax_box)\n",
    "sns.distplot(df1[\"num_price\"], ax=ax_hist)\n",
    "\n",
    "# Remove x axis name for the boxplot\n",
    "ax_box.set(xlabel='')\n"
   ]
  },
  {
   "cell_type": "code",
   "execution_count": 2,
   "metadata": {
    "scrolled": true
   },
   "outputs": [
    {
     "ename": "NameError",
     "evalue": "name 'ax' is not defined",
     "output_type": "error",
     "traceback": [
      "\u001b[0;31m---------------------------------------------------------------------------\u001b[0m",
      "\u001b[0;31mNameError\u001b[0m                                 Traceback (most recent call last)",
      "Input \u001b[0;32mIn [2]\u001b[0m, in \u001b[0;36m<cell line: 1>\u001b[0;34m()\u001b[0m\n\u001b[0;32m----> 1\u001b[0m \u001b[43max\u001b[49m\u001b[38;5;241m.\u001b[39mfigure\u001b[38;5;241m.\u001b[39msavefig(\u001b[38;5;124m'\u001b[39m\u001b[38;5;124mfile.png\u001b[39m\u001b[38;5;124m'\u001b[39m)\n",
      "\u001b[0;31mNameError\u001b[0m: name 'ax' is not defined"
     ]
    }
   ],
   "source": [
    "ax.figure.savefig('file.png')"
   ]
  },
  {
   "cell_type": "code",
   "execution_count": null,
   "metadata": {},
   "outputs": [],
   "source": []
  },
  {
   "cell_type": "code",
   "execution_count": null,
   "metadata": {},
   "outputs": [],
   "source": []
  }
 ],
 "metadata": {
  "hide_input": false,
  "kernelspec": {
   "display_name": "Python 3 (ipykernel)",
   "language": "python",
   "name": "python3"
  },
  "language_info": {
   "codemirror_mode": {
    "name": "ipython",
    "version": 3
   },
   "file_extension": ".py",
   "mimetype": "text/x-python",
   "name": "python",
   "nbconvert_exporter": "python",
   "pygments_lexer": "ipython3",
   "version": "3.9.12"
  },
  "toc": {
   "base_numbering": 1,
   "nav_menu": {},
   "number_sections": true,
   "sideBar": true,
   "skip_h1_title": false,
   "title_cell": "Table of Contents",
   "title_sidebar": "Contents",
   "toc_cell": false,
   "toc_position": {
    "height": "calc(100% - 180px)",
    "left": "10px",
    "top": "150px",
    "width": "274.188px"
   },
   "toc_section_display": true,
   "toc_window_display": true
  },
  "varInspector": {
   "cols": {
    "lenName": 16,
    "lenType": 16,
    "lenVar": 40
   },
   "kernels_config": {
    "python": {
     "delete_cmd_postfix": "",
     "delete_cmd_prefix": "del ",
     "library": "var_list.py",
     "varRefreshCmd": "print(var_dic_list())"
    },
    "r": {
     "delete_cmd_postfix": ") ",
     "delete_cmd_prefix": "rm(",
     "library": "var_list.r",
     "varRefreshCmd": "cat(var_dic_list()) "
    }
   },
   "types_to_exclude": [
    "module",
    "function",
    "builtin_function_or_method",
    "instance",
    "_Feature"
   ],
   "window_display": false
  }
 },
 "nbformat": 4,
 "nbformat_minor": 4
}
