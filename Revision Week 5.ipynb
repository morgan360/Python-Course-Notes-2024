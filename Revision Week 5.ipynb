{
 "cells": [
  {
   "cell_type": "markdown",
   "id": "b90f4316",
   "metadata": {},
   "source": [
    "# Revision Week 5"
   ]
  },
  {
   "cell_type": "markdown",
   "id": "cff61311",
   "metadata": {},
   "source": [
    "## 1. Variables: Numbers and Strings\n",
    "\n",
    "**Review**: In Python, you can store data in variables, which can be numbers (such as integers and floats) or strings (text). Variables are essential for storing information that your program can manipulate or display.\n",
    "\n",
    "**Example**:\n",
    "```python\n",
    "age = 30  # An integer assignment\n",
    "height = 1.75  # A floating-point number\n",
    "name = \"Jamie\"  # A string\n"
   ]
  },
  {
   "cell_type": "code",
   "execution_count": null,
   "id": "b0d008fa",
   "metadata": {},
   "outputs": [],
   "source": [
    "# Workspace\n",
    "print()"
   ]
  },
  {
   "cell_type": "markdown",
   "id": "e16a1ffd",
   "metadata": {},
   "source": [
    "## 2. Print Statement Using f-strings\n",
    "\n",
    "**Review**: f-strings (formatted string literals) offer a concise and convenient way to embed Python expressions inside string literals. You can create f-strings by prefixing a string with the letter `f` and writing expressions inside curly braces `{}`. This feature allows for easy and readable string formatting, especially when you want to include variable values or the results of expressions directly within a string.\n",
    "\n",
    "**Example**:\n",
    "```python\n",
    "name = \"Alex\"\n",
    "age = 25\n",
    "print(f\"Hello, my name is {name} and I am {age} years old.\")\n"
   ]
  },
  {
   "cell_type": "markdown",
   "id": "79b576ff",
   "metadata": {},
   "source": [
    "### SAQ1\n",
    "\n",
    "**Exercise**: Create a variable for your age and your height in meters. Then, create a string variable that describes you using your age and height. Use this information to print a string that introduces yourself with these details.\n",
    "\n",
    "**Steps**:\n",
    "1. Assign your age to a variable.\n",
    "2. Assign your height (in meters) to another variable.\n",
    "3. Create a string variable that combines both your age and height into a descriptive sentence.\n",
    "4. Print this sentence to introduce yourself.\n"
   ]
  },
  {
   "cell_type": "code",
   "execution_count": null,
   "id": "e061a85e",
   "metadata": {},
   "outputs": [],
   "source": [
    "# Put you answer here"
   ]
  },
  {
   "cell_type": "markdown",
   "id": "a61519ca",
   "metadata": {},
   "source": [
    "## 3. Lists \n",
    "\n",
    "**Review**: A list in Python is a collection of items that can be changed (mutable). You can add, remove, or modify items in a list. Lists are created by placing elements inside square brackets `[]`, separated by commas. Common methods to manipulate lists include `.append()` to add items at the end, `.remove()` to delete a specified item, and using indexing to access or set elements at specific positions.\n",
    "\n",
    "**Example of List Operations**:\n",
    "```python\n",
    "# Creating a list\n",
    "my_list = ['apple', 'banana', 'cherry']\n",
    "# Appending an item\n",
    "my_list.append('orange')\n",
    "# Removing an item\n",
    "my_list.remove('banana')\n",
    "# Accessing/Modifying an item by index\n",
    "my_list[0] = 'kiwi'\n"
   ]
  },
  {
   "cell_type": "markdown",
   "id": "97f603b8",
   "metadata": {},
   "source": [
    "### SAQ 2\n",
    "**Exercise**: Create a Python script that asks you for a list of four countries you wish to visit. Your script should then perform the following actions based on additional input from you:\n",
    "\n",
    "1. Ask you to input another country you'd like to add to your list.\n",
    "2. Ask you to specify a country from your list to remove.\n",
    "3. Ask you for a country in your list that you want to replace with \"Japan\".\n",
    "4. After each operation, print the list to show the current list of countries.\n",
    "\n",
    "**Instructions**:\n",
    "\n",
    "1. Start by asking the user to enter the names of four countries, separated by commas. Store these in a list use the **split method** see below.\n",
    "2. Prompt the user to enter another country to add to the list, and use the `.append()` method to include it.\n",
    "3. Ask the user for a country they want to remove from the list and use the `.remove()` method to delete it. Make sure to check if the country is in the list first to avoid errors.\n",
    "4. Print the list before and after each operation to show the changes."
   ]
  },
  {
   "cell_type": "markdown",
   "id": "de73695a",
   "metadata": {},
   "source": [
    "**Note: The split method**\n",
    "The `.split()` method in Python is used to divide a string into a list of substrings based on a specified separator.\n",
    "\n",
    "**Syntax**:\n",
    "```python\n",
    "string.split(separator, maxsplit)\n",
    "#Example\n",
    "text = \"apple, banana, cherry\"\n",
    "result = text.split(\", \")\n",
    "print(result)\n",
    "\n",
    "['apple', 'banana', 'cherry']\n"
   ]
  },
  {
   "cell_type": "code",
   "execution_count": null,
   "id": "15d25975",
   "metadata": {},
   "outputs": [],
   "source": [
    "# Put your answer here\n",
    "countries_input = input(\"Enter four countries you wish to visit, separated by commas: \")\n"
   ]
  },
  {
   "cell_type": "markdown",
   "id": "1e50a021",
   "metadata": {},
   "source": [
    "## 4. If, Elif, and Else Statements\n",
    "\n",
    "**Review**: Python uses conditional statements to execute different blocks of code based on certain conditions. These statements allow for complex decision-making processes in your programs.\n",
    "\n",
    "**Example**:\n",
    "\n",
    "```python\n",
    "a = 5\n",
    "b = 10\n",
    "if a > b:\n",
    "    print(\"a is greater than b\")\n",
    "elif a < b:\n",
    "    print(\"a is less than b\")\n",
    "else:\n",
    "    print(\"a and b are equal\")\n"
   ]
  },
  {
   "cell_type": "markdown",
   "id": "9dd67144",
   "metadata": {},
   "source": [
    "### SAQ 3\n",
    "\n",
    "**Exercise:** Write a program that checks if a number stored in a variable is positive, negative, or zero. Use if, elif, and else statements to print the appropriate message for each case."
   ]
  },
  {
   "cell_type": "code",
   "execution_count": null,
   "id": "f0391f94",
   "metadata": {},
   "outputs": [],
   "source": [
    "# Put Your Answere Here\n"
   ]
  },
  {
   "cell_type": "markdown",
   "id": "dd7a8959",
   "metadata": {},
   "source": [
    "### 5. Loops: For and While\n",
    "\n",
    "**Review**:\n",
    "\n",
    "Loops are used in programming to repeat a block of code multiple times. Python provides two main types of loops: `for` loops and `while` loops.\n",
    "\n",
    "#### For Loop\n",
    "\n",
    "A `for` loop is used for iterating over a sequence (such as a list, tuple, dictionary, set, or string). This is helpful for performing an action on each item in the sequence.\n",
    "\n",
    "**Example**:\n",
    "```python\n",
    "fruits = [\"apple\", \"banana\", \"cherry\"]\n",
    "for fruit in fruits:\n",
    "print(fruit)\n",
    "```\n",
    "### While Loop\n",
    "\n",
    "A `while` loop in Python executes a block of code repeatedly as long as a given condition is true. It's used when you need to perform an action multiple times, but the exact number of iterations is not known beforehand.\n",
    "\n",
    "**Example**:\n",
    "```python\n",
    "count = 0\n",
    "while count < 5:\n",
    "    print(count)\n",
    "    count += 1\n",
    "    "
   ]
  },
  {
   "cell_type": "markdown",
   "id": "d8fdbf7f",
   "metadata": {},
   "source": [
    "## SAQ 4 - Revision Question on Loops\n",
    "\n",
    "**Question**: Write a Python script that uses both a `for` loop and a `while` loop to accomplish the following tasks:\n",
    "\n",
    "1. **Part A**: Using a `for` loop, create a list named `squared_numbers` that contains the squares of all numbers from 1 to 10 (inclusive). Print the list after the loop completes.\n",
    "\n",
    "2. **Part B**: Using a `while` loop, iterate over the `squared_numbers` list and sum all the numbers in the list. Continue iterating until you reach the end of the list. Print the total sum after the loop completes.\n",
    "\n",
    "**Hints**:\n",
    "- Remember that the range function `range(start, stop)` can be used in a `for` loop to iterate through a sequence of numbers. Note that `range` stops before the `stop` number.\n",
    "- To iterate through a list with a `while` loop, you can use an index to access each element by its position. You'll need to increment this index manually in each iteration.\n"
   ]
  },
  {
   "cell_type": "code",
   "execution_count": null,
   "id": "f4ffbb42",
   "metadata": {},
   "outputs": [],
   "source": [
    "squared_numbers =[]\n",
    "numbers = [1,2,3,4,5]\n",
    "# ????\n",
    "print(squared_numbers)"
   ]
  },
  {
   "cell_type": "code",
   "execution_count": null,
   "id": "1c5aba9c",
   "metadata": {},
   "outputs": [],
   "source": [
    "total_sum = 0\n",
    "index = 0\n",
    "while index < len(squared_numbers):\n",
    "#     ????????\n",
    "print(total_sum)"
   ]
  },
  {
   "cell_type": "markdown",
   "id": "d9fff6d8",
   "metadata": {},
   "source": [
    "## 6. Simple Functions with Parameters and Return Values\n",
    "\n",
    "**Review**: Functions in Python are blocks of code that are designed to perform a specific task. Functions can accept parameters (also known as arguments) and can return values. They provide a way to organize and reuse code. Functions are defined using the `def` keyword, followed by the function name and parentheses `()` that can contain parameters. The code block within a function starts with a colon `:` and is indented.\n",
    "\n",
    "**Example**:\n",
    "``` python\n",
    "def add_numbers(a, b):\n",
    "    return a + b\n",
    "```\n",
    "Then call the function as many times as you need:\n",
    "```python\n",
    "result = add_numbers(5, 3)\n",
    "print(result)\n",
    "```"
   ]
  },
  {
   "cell_type": "markdown",
   "id": "5ba11e80",
   "metadata": {},
   "source": [
    "### SAQ 5 Python Functions Exercise: Temperature Converter\n",
    "\n",
    "**Problem Statement**: Write a Python function named `convert_temperature` that converts a temperature from Fahrenheit to Celsius. The function should take one parameter, the temperature in Fahrenheit, and return the temperature converted to Celsius. \n",
    "\n",
    "The formula for converting Fahrenheit to Celsius is given by:\n",
    "\n",
    "C = (F - 32) * 5/9\n",
    "\n",
    "where \\( C \\) is the temperature in Celsius and \\( F \\) is the temperature in Fahrenheit.\n",
    "\n",
    "**Additional Task**: After writing the function, use it to convert a list of temperatures in Fahrenheit to Celsius. Print both the original Fahrenheit temperatures and the converted Celsius temperatures in a formatted manner.\n",
    "\n",
    "### Instructions:\n",
    "1. **Define the Function**: Define a function named `convert_temperature` that accepts one parameter for the temperature in Fahrenheit.\n",
    "2. **Implement Conversion**: Inside the function, apply the formula to convert the temperature from Fahrenheit to Celsius.\n",
    "3. **Return the Result**: Have the function return the calculated temperature in Celsius.\n",
    "4. **Create a List of Fahrenheit Temperatures**: For example, use the list `[32, 212, 0, 100]`.\n",
    "5. **Convert and Print Temperatures**: Iterate over the Fahrenheit temperature list, convert each temperature to Celsius using the `convert_temperature` function, and print the results in a readable format.\n",
    "\n",
    "### Example Output:\n",
    "Given a list of Fahrenheit temperatures like `[32, 212, 0, 100]`, your program should produce the following output:\n",
    "\n",
    "1. 32°F is 0.0°C\n",
    "2. 212°F is 100.0°C\n",
    "3. 0°F is -17.7778°C\n",
    "4. 100°F is 37.7778°C"
   ]
  },
  {
   "cell_type": "markdown",
   "id": "3ff06082",
   "metadata": {},
   "source": [
    "Dictionaries in Python are powerful data structures that store data in key-value pairs. Here's a detailed overview to help you revise the concept:\n",
    "\n",
    "## 7. Dictionaries: Overview\n",
    "\n",
    "- **Definition**: A dictionary is a collection which is unordered, changeable, and indexed. In Python, dictionaries are written with curly brackets `{}`, and they have keys and values.\n",
    "- **Create**: You create a dictionary by placing a comma-separated list of key-value pairs within curly braces. A colon `:` separates each key from its associated value.\n",
    "  \n",
    "  ```python\n",
    "  my_dict = {\n",
    "      \"brand\": \"Ford\",\n",
    "      \"model\": \"Mustang\",\n",
    "      \"year\": 1964\n",
    "  }\n",
    "  ```\n",
    "\n",
    "- **Accessing Items**: You can access the value of a specific item by referring to its key name, enclosed in square brackets `[]`, or by using the `.get()` method.\n",
    "  \n",
    "  ```python\n",
    "  x = my_dict[\"model\"]\n",
    "  # or\n",
    "  x = my_dict.get(\"model\")\n",
    "  ```\n",
    "\n",
    "- **Changing Values**: You can change the value of a specific item by referring to its key name.\n",
    "  \n",
    "  ```python\n",
    "  my_dict[\"year\"] = 2018\n",
    "  ```\n",
    "\n",
    "- **Adding Items**: Adding an item to the dictionary is done by using a new index key and assigning a value to it.\n",
    "  \n",
    "  ```python\n",
    "  my_dict[\"color\"] = \"red\"\n",
    "  ```\n",
    "\n",
    "- **Removing Items**: There are several methods to remove items from a dictionary. The `pop()` method removes the item with the specified key name, `popitem()` method removes the last inserted item, and the `del` keyword removes the item with the specified key name or the entire dictionary when used without specifying a key.\n",
    "  \n",
    "  ```python\n",
    "  my_dict.pop(\"model\")\n",
    "  my_dict.popitem()\n",
    "  del my_dict[\"year\"]\n",
    "  # del my_dict would delete the whole dictionary\n",
    "  ```\n",
    "\n",
    "- **Looping Through a Dictionary**: You can loop through a dictionary by using a `for` loop. When looping through a dictionary, the return value are the keys of the dictionary, but there are methods to return the values as well.\n",
    "  \n",
    "  ```python\n",
    "  for key in my_dict:\n",
    "      print(key)  # prints keys\n",
    "  \n",
    "  for key, value in my_dict.items():\n",
    "      print(key, value)  # prints keys and values\n",
    "  ```\n",
    "\n",
    "- **Dictionary Methods**: Python has a set of built-in methods that you can use on dictionaries, including `.items()`, `.keys()`, `.values()`, `.clear()`, `.copy()`, and more.\n",
    "\n",
    "Dictionaries are ideal for storing data that can be uniquely identified by a key, like database records, configurations, and more. They offer fast lookups and can be nested, meaning you can have dictionaries within dictionaries for complex data structures."
   ]
  },
  {
   "cell_type": "code",
   "execution_count": null,
   "id": "7f88d987",
   "metadata": {},
   "outputs": [],
   "source": [
    "# Doodle Area\n",
    "\n"
   ]
  },
  {
   "cell_type": "markdown",
   "id": "586bd1f2",
   "metadata": {},
   "source": [
    "# MAQ -Comprehensive Exercise: Trip Planner\n",
    "\n",
    "**Scenario**:\n",
    "You are planning a trip around the world. You have a list of countries you want to visit, a limited number of days you can travel, and a daily budget. Your task is to write a Python program that helps you manage your trip's details and ensures you don't exceed your budget or travel days.\n",
    "\n",
    "## Objectives:\n",
    "\n",
    "### Variable Setup:\n",
    "- Create a list named `countries` from an **input()** statment in a while loop, which loops until the user enters 'end'.\n",
    "- Create a variable `total_days` from an input asking for total number of days you plan to travel.\n",
    "- Create a variable `daily_budget` from an input asking for daily spending budget in euros.\n",
    "\n",
    "### Travel Planning Function:\n",
    "- Write a function named `plan_trip` that accepts the list of countries, the total days, and the daily budget.\n",
    "- Inside the function, use a loop to print each country you plan to visit, using an f-string for formatting.\n",
    "- Calculate and return a tuple containing two elements: the total budget for the trip and the average budget per country. Assume you'll spend an equal number of days in each country.\n",
    "\n",
    "### Conditional Statements:\n",
    "- After calling the `plan_trip` function, use conditional statements to check if the total budget exceeds 2000 euros. If it does, print a warning message advising to save more money. Otherwise, congratulate the user on their upcoming adventure.\n",
    "\n",
    "### Enhanced Trip Details:\n",
    "- Modify the `plan_trip` function to also accept a list of must-visit places or landmarks for each country (use a list of lists or a dictionary). Incorporate this information into the loop that prints each country, displaying the places or landmarks alongside. You will need to create a separate list for places to visit for each country. So that means either you create a second loop to collect the information on places to visit. **Or**, a loop within a loop to collect the places just after each country is input.  Use a dictionary with 'key' as country and 'value' as list of places to visit :\n",
    "\n",
    "```\n",
    "places = {\n",
    "    \"France\": [\"Eiffel Tower\", \"Louvre Museum\"],\n",
    "    \"Japan\": [\"Mount Fuji\", \"Tokyo Tower\"],\n",
    "    \"Brazil\": [\"Christ the Redeemer\", \"Amazon Rainforest\"],\n",
    "    \"Italy\": [\"Colosseum\", \"Leaning Tower of Pisa\"],\n",
    "    \"Canada\": [\"Niagara Falls\", \"CN Tower\"],\n",
    "}\n",
    "```\n",
    "\n",
    "## Hints:\n",
    "\n",
    "- You can use a break statement to end a loop\n",
    "\n",
    "```python\n",
    "if country.lower() == 'end':\n",
    "        break\n",
    "```\n",
    "- Use the `len()` function to help distribute the days evenly among the countries.\n",
    "- Remember to test your function with different inputs to ensure it behaves as expected.\n",
    "\n",
    "## Example Output for the enhanced version:\n",
    "\n",
    "```yaml\n",
    "Planning your trip...\n",
    "- France: Eiffel Tower, Louvre Museum\n",
    "- Japan: Mount Fuji, Tokyo Tower\n",
    "- Brazil: Christ the Redeemer, Amazon Rainforest\n",
    "Total budget for the trip: 1500 euros\n",
    "Average budget per country: 500 euros\n",
    "\n",
    "Congratulations on planning your trip within budget!\n"
   ]
  },
  {
   "cell_type": "code",
   "execution_count": null,
   "id": "951d17d4",
   "metadata": {},
   "outputs": [],
   "source": [
    "# Put your answer here\n"
   ]
  }
 ],
 "metadata": {
  "kernelspec": {
   "display_name": "Python 3 (ipykernel)",
   "language": "python",
   "name": "python3"
  },
  "language_info": {
   "codemirror_mode": {
    "name": "ipython",
    "version": 3
   },
   "file_extension": ".py",
   "mimetype": "text/x-python",
   "name": "python",
   "nbconvert_exporter": "python",
   "pygments_lexer": "ipython3",
   "version": "3.9.12"
  },
  "varInspector": {
   "cols": {
    "lenName": 16,
    "lenType": 16,
    "lenVar": 40
   },
   "kernels_config": {
    "python": {
     "delete_cmd_postfix": "",
     "delete_cmd_prefix": "del ",
     "library": "var_list.py",
     "varRefreshCmd": "print(var_dic_list())"
    },
    "r": {
     "delete_cmd_postfix": ") ",
     "delete_cmd_prefix": "rm(",
     "library": "var_list.r",
     "varRefreshCmd": "cat(var_dic_list()) "
    }
   },
   "types_to_exclude": [
    "module",
    "function",
    "builtin_function_or_method",
    "instance",
    "_Feature"
   ],
   "window_display": false
  }
 },
 "nbformat": 4,
 "nbformat_minor": 5
}
