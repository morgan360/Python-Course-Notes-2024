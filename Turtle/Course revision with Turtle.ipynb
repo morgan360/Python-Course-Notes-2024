{
 "cells": [
  {
   "cell_type": "markdown",
   "metadata": {},
   "source": [
    "## version 1.2"
   ]
  },
  {
   "cell_type": "markdown",
   "metadata": {},
   "source": [
    "# Turtle Playground"
   ]
  },
  {
   "cell_type": "markdown",
   "metadata": {},
   "source": [
    "Turtle is library that you can import into Juypter Notebooks. You use Python commands to play with your turtle. On this course we will be using Turtle to illustrate a number of programming concepts. On week four we will have a small competition to see(by vote)the nicest turtle drawing.\n",
    "\n",
    "Turtle should work straight off on Anacinda 3. However if it does not work, then we may have to use the extension.  The extension is installed useing the following commands in the Anaconda run cmd prompt.<br>\n",
    "<code>$ pip install ipyturtle <br>\n",
    "$ jupyter nbextension enable --py --sys-prefix ipyturtle</code>\n",
    "\n",
    "Turtle Docummentation is available at [Turtle Docs](https://docs.python.org/3.3/library/turtle.html?highlight=turtle)."
   ]
  },
  {
   "cell_type": "markdown",
   "metadata": {},
   "source": [
    "### Time library"
   ]
  },
  {
   "cell_type": "code",
   "execution_count": 1,
   "metadata": {},
   "outputs": [
    {
     "name": "stdout",
     "output_type": "stream",
     "text": [
      "morgan\n"
     ]
    }
   ],
   "source": [
    "import time\n",
    "time.sleep(5)\n",
    "print(\"morgan\")"
   ]
  },
  {
   "cell_type": "markdown",
   "metadata": {},
   "source": [
    "## Turtle's first steps:\n",
    "The first thing you have to do is import an already prebuilt program **(library)** called turtle using import turtle. In the following example Leno"
   ]
  },
  {
   "cell_type": "code",
   "execution_count": 2,
   "metadata": {},
   "outputs": [],
   "source": [
    "# import the libraries\n",
    "import turtle \n",
    "import time \n",
    "#Create a new turtle called Leno\n",
    "Leno = turtle.Turtle() \n",
    "#turtle.clearscreen() # Clears the screen after turtle is fininshe\n",
    "\n",
    "Leno.color(\"red\") # Make turtle red in colour\n",
    "\n",
    "Leno.pensize(5) #Set the tickness of the pen\n",
    "\n",
    "Leno.shape(\"turtle\")\n",
    "\n",
    "Leno.forward(100)\n",
    "Leno.left(90)\n",
    "Leno.forward(100)\n",
    "Leno.left(90)\n",
    "Leno.forward(200)\n",
    "Leno.left(90)\n",
    "Leno.forward(200)\n",
    "Leno.color(\"blue\")\n",
    "Leno.left(90)\n",
    "Leno.forward(200)\n",
    "time.sleep(30) \n",
    "turtle.done\n",
    "turtle.clearscreen() # Clears the screen after turtle is fininshe"
   ]
  },
  {
   "cell_type": "markdown",
   "metadata": {},
   "source": [
    "## Using variables \n",
    "In the following example I have created two turtles. (Beno and Leda). I improve my program by making use of variables."
   ]
  },
  {
   "cell_type": "code",
   "execution_count": 4,
   "metadata": {},
   "outputs": [],
   "source": [
    "import turtle\n",
    "import time # Library for time functions\n",
    "Beno = turtle.Turtle()\n",
    "Leda = turtle.Turtle()\n",
    "Beno.color(\"red\")\n",
    "Leda.color(\"black\")\n",
    "Beno.pensize(5)\n",
    "Leda.pensize(5)\n",
    "Beno.shape(\"turtle\")\n",
    "Leda.shape(\"turtle\")\n",
    "# Use variables to move our Turtles\n",
    "dst = 100 # distance\n",
    "trn = 90 # turn angle\n",
    "Beno.forward(dst)\n",
    "Leda.backward(dst)\n",
    "\n",
    "Beno.left(trn)\n",
    "Beno.forward(dst)\n",
    "\n",
    "Leda.backward(dst)\n",
    "\n",
    "Beno.left(trn)\n",
    "Beno.forward(dst)\n",
    "Beno.left(trn)\n",
    "Beno.forward(dst )\n",
    "Beno.color(\"green\")\n",
    "Beno.left(trn)\n",
    "Beno.forward(dst)\n",
    "time.sleep(5)\n",
    "Beno.clear()\n",
    "Leda.clear()"
   ]
  },
  {
   "cell_type": "markdown",
   "metadata": {},
   "source": [
    "### Range Function and For Loops\n",
    "The **range()** function returns a sequence of numbers, starting from 0 by default, and increments by 1 (by default), and stops before a specified number.<br>\n",
    "*range(start, stop, step)\n",
    "\n",
    "A **for loop** is used for iterating over a sequence (that is either a list, a tuple, a dictionary, a set, or a string)."
   ]
  },
  {
   "cell_type": "code",
   "execution_count": null,
   "metadata": {},
   "outputs": [],
   "source": [
    "# Example of Range and for\n",
    "x = range(6)\n",
    "for n in x:\n",
    "    print(n)\n",
    "    \n",
    "    \n",
    "    "
   ]
  },
  {
   "cell_type": "code",
   "execution_count": null,
   "metadata": {},
   "outputs": [],
   "source": [
    "word = \"rabbits\"\n",
    "for i in word:\n",
    "    print(i)\n"
   ]
  },
  {
   "cell_type": "code",
   "execution_count": null,
   "metadata": {},
   "outputs": [],
   "source": [
    "nums= [1,2,3,4,6]\n",
    "\n",
    "for num in nums:\n",
    "    print(num)"
   ]
  },
  {
   "cell_type": "code",
   "execution_count": null,
   "metadata": {},
   "outputs": [],
   "source": [
    "x = range(6)# [0,1,2,3,4,5]\n",
    "\n",
    "for jklsdfjafla in x:\n",
    "    print(jklsdfjafla)\n"
   ]
  },
  {
   "cell_type": "code",
   "execution_count": 8,
   "metadata": {},
   "outputs": [],
   "source": [
    "# Another Example\n",
    "import turtle\n",
    "import time \n",
    "\n",
    "Beno = turtle.Turtle()\n",
    "Beno.color(\"Blue\")\n",
    "Beno.pensize(5)\n",
    "Beno.shape(\"turtle\")\n",
    "\n",
    "# Use variables to move our Turtles\n",
    "dst = 4 # distance\n",
    "trn = 45 # turn angle\n",
    "x = range(80)\n",
    "\n",
    "for n in x:\n",
    "    Beno.forward(dst)\n",
    "    Beno.left(trn)\n",
    "    dst += 2\n",
    "    trn += 2\n",
    "# End and clear\n",
    "time.sleep(10)\n",
    "Beno.clear()\n",
    "turtle.clearscreen()"
   ]
  },
  {
   "cell_type": "markdown",
   "metadata": {},
   "source": [
    "## Using the While Loop\n",
    "With the **while loop** we can execute a set of statements as long as a condition is true"
   ]
  },
  {
   "cell_type": "code",
   "execution_count": null,
   "metadata": {},
   "outputs": [],
   "source": [
    "# Example of while loop\n",
    "i = 1\n",
    "while i < 7:\n",
    "  print(i)\n",
    "  i += 1"
   ]
  },
  {
   "cell_type": "code",
   "execution_count": 9,
   "metadata": {},
   "outputs": [],
   "source": [
    "import turtle\n",
    "import time # Library for time functions\n",
    "Beno = turtle.Turtle()\n",
    "Beno.color(\"pink\")\n",
    "Beno.pensize(5)\n",
    "Beno.shape(\"turtle\")\n",
    "# Use variables to move our Turtles\n",
    "dst = 50 # distance\n",
    "trn = 45 # turn angle\n",
    "\n",
    "# Python program to illustrate \n",
    "# while loop \n",
    "count = 0\n",
    "while (count < 30):     \n",
    "    count += 1\n",
    "    Beno.forward(dst)\n",
    "    Beno.left(trn)\n",
    "    dst= dst + 2   \n",
    "# End\n",
    "time.sleep(5)    \n",
    "turtle.clearscreen()"
   ]
  },
  {
   "cell_type": "markdown",
   "metadata": {},
   "source": [
    "## Using If Statements\n"
   ]
  },
  {
   "cell_type": "code",
   "execution_count": null,
   "metadata": {},
   "outputs": [],
   "source": [
    "#Example of an if statment\n",
    "a = 1\n",
    "b = 2\n",
    "if b > a:\n",
    "  print(\"b is greater than a\")\n",
    "elif b == a:\n",
    "    print(\"b is equal to a\")\n",
    "else:\n",
    "    print(\"b is less than a\")"
   ]
  },
  {
   "cell_type": "code",
   "execution_count": null,
   "metadata": {},
   "outputs": [],
   "source": [
    "# Prints all letters except 'e' and 's' \n",
    "for letter in 'geeksforgeeks':  \n",
    "    if letter == 'e' or letter == 's': \n",
    "         continue\n",
    "    print ('Current Letter :', letter )\n"
   ]
  },
  {
   "cell_type": "markdown",
   "metadata": {},
   "source": [
    "## SAQ 1 \n",
    "Using an **If statement**, change the above code to change the Turtle's colour after count = 7"
   ]
  },
  {
   "cell_type": "code",
   "execution_count": 10,
   "metadata": {},
   "outputs": [],
   "source": [
    "#Put your code here\n",
    "import turtle\n",
    "import time # Library for time functions\n",
    "Beno = turtle.Turtle()\n",
    "Beno.color(\"pink\")\n",
    "Beno.pensize(5)\n",
    "Beno.shape(\"turtle\")\n",
    "# Use variables to move our Turtles\n",
    "dst = 50 # distance\n",
    "trn = 45 # turn angle\n",
    "\n",
    "# Python program to illustrate \n",
    "# while loop \n",
    "count = 0\n",
    "while (count < 30):     \n",
    "    count += 1\n",
    "    if count == 7:\n",
    "        Beno.color(\"blue\")\n",
    "    Beno.forward(dst)\n",
    "    Beno.left(trn)\n",
    "    dst= dst + 2   \n",
    "# End\n",
    "time.sleep(5)    \n",
    "turtle.clearscreen()"
   ]
  },
  {
   "cell_type": "markdown",
   "metadata": {},
   "source": [
    "## Using  Functions\n",
    "A function is a block of code which only runs when it is called.\n",
    "You can pass data, known as parameters, into a function.\n",
    "A function may return data as a result."
   ]
  },
  {
   "cell_type": "code",
   "execution_count": null,
   "metadata": {},
   "outputs": [],
   "source": [
    "def tree():\n",
    "    print('Oak')"
   ]
  },
  {
   "cell_type": "code",
   "execution_count": null,
   "metadata": {},
   "outputs": [],
   "source": [
    "tree()\n",
    "tree()"
   ]
  },
  {
   "cell_type": "markdown",
   "metadata": {},
   "source": [
    "### Creating your own functions\n",
    "In the following example we use a function to move the turtle. We have named the function **main()**"
   ]
  },
  {
   "cell_type": "code",
   "execution_count": 11,
   "metadata": {},
   "outputs": [],
   "source": [
    "import turtle\n",
    "import time\n",
    "import random\n",
    "\n",
    "#define a range of colours in a list(or tuple)\n",
    "colours = [ \"red\", \"orange\",\"yellow\",\"green\",\"blue\",\"indigo\",\"violet\"]\n",
    "turtle.clearscreen()\n",
    "Beno = turtle.Turtle()\n",
    "rnd_colour = random.sample(colours,1)\n",
    "Beno.color(rnd_colour)\n",
    "Beno.pensize(5)\n",
    "Beno.shape(\"turtle\")\n",
    "\n",
    "\n",
    "# Use variables to move our Turtles\n",
    "dst = 50 # distance\n",
    "trn = 45 # turn angle\n",
    "# Define a range\n",
    "x = range(10)\n",
    "# Function\n",
    "\n",
    "def main():# Define your own function called \"main\"\n",
    "    Beno.forward(dst)\n",
    "    Beno.right(trn)\n",
    "    Beno.forward(dst) \n",
    "\n",
    "#Loop\n",
    "for n in x:\n",
    "    main() #Run the main functiion x times\n",
    "    time.sleep(1)\n",
    "    rnd_colour = random.sample(colours,1)\n",
    "    Beno.color(rnd_colour)\n",
    "time.sleep(5)\n",
    "Beno.clear()"
   ]
  },
  {
   "cell_type": "markdown",
   "metadata": {},
   "source": [
    "### A function that accepts parameters"
   ]
  },
  {
   "cell_type": "code",
   "execution_count": 12,
   "metadata": {},
   "outputs": [],
   "source": [
    "import turtle\n",
    "import time\n",
    "import random\n",
    "#define a range of colours in a list(or tuple)\n",
    "colours = [ \"red\", \"orange\",\"yellow\",\"green\",\"blue\",\"indigo\",\"violet\"]\n",
    "\n",
    "import turtle\n",
    "import time # Library for time functions\n",
    "Beno = turtle.Turtle()\n",
    "rnd_colour = random.sample(colours,1)\n",
    "Beno.color(rnd_colour)\n",
    "Beno.pensize(5)\n",
    "Beno.shape(\"turtle\")\n",
    "# Use variables to move our Turtles\n",
    "dst = 2 # distance\n",
    "trn = 45 # turn angle\n",
    "\n",
    "\n",
    "def main(f,t): #f and t values are passed to the function each time it is called\n",
    "    Beno.forward(f)\n",
    "    Beno.right(t)\n",
    "    Beno.forward(f)\n",
    "\n",
    "x = range(20) #Calling the function 6 times\n",
    "for n in x:\n",
    "    main(dst,trn)\n",
    "    dst += 1\n",
    "\n",
    "#End\n",
    "time.sleep(5)   \n",
    "turtle.clearscreen()\n",
    "turtle.bye()"
   ]
  },
  {
   "cell_type": "code",
   "execution_count": null,
   "metadata": {},
   "outputs": [],
   "source": [
    "# The following is an example of controling your  turtle using keys and a mouse\n",
    "\n",
    "import turtle\n",
    "import random\n",
    "import time\n",
    "\n",
    "colours =[\"red\", \"orange\",\"yellow\", \"green\", \"blue\", \"black\", \"grey\"] # a list of colours\n",
    "Beno = turtle.Turtle()\n",
    "Beno.color(\"black\")\n",
    "Beno.speed(0)\n",
    "Beno.pensize(5)\n",
    "Beno.shape(\"turtle\")\n",
    "\n",
    "#Nav variables\n",
    "nth = 90 \n",
    "sth = 270\n",
    "est = 180 \n",
    "wst = 0\n",
    "#Distance\n",
    "dst = 100 \n",
    "\n",
    "# define your functions for keys\n",
    "def up():\n",
    "    Beno.setheading(nth)\n",
    "    Beno.forward(dst)\n",
    "def down():\n",
    "    Beno.setheading(sth)\n",
    "    Beno.forward(dst)\n",
    "def left():\n",
    "    Beno.setheading(est)\n",
    "    Beno.forward(dst)\n",
    "def right():\n",
    "    Beno.setheading(wst)\n",
    "    Beno.forward(dst)\n",
    "\n",
    "# Define functions for mouse clicks\n",
    "def clickleft(x,y):\n",
    "    Beno.color(random.choice(colours))\n",
    "\n",
    "def clickright(x,y):\n",
    "    Beno.stamp()\n",
    "       \n",
    "    \n",
    "# listen out for mouse and keyboard events\n",
    "turtle.onscreenclick(clickleft, 1)\n",
    "turtle.onscreenclick(clickright, 2)\n",
    "\n",
    "# Listen for Keys\n",
    "turtle.listen()  \n",
    "turtle.onkey(up,'Up')    \n",
    "turtle.onkey(down,'Down')\n",
    "turtle.onkey(left,'Left')\n",
    "turtle.onkey(right,'Right')\n",
    "\n",
    "turtle.mainloop()# keep looping "
   ]
  },
  {
   "cell_type": "code",
   "execution_count": 17,
   "metadata": {},
   "outputs": [],
   "source": [
    "# Turtle Write\n",
    "\n",
    "import turtle\n",
    "import random\n",
    "from turtle import *\n",
    "import time\n",
    "# )\n",
    "Beno = turtle.Turtle()\n",
    "Beno.color('deep pink')\n",
    "\n",
    "style = ('Courier', 30, 'italic')\n",
    "\n",
    "Beno.write('Hello World!', font=style, align='center')\n",
    "Beno.hideturtle()\n",
    "time.sleep(5)  \n",
    "turtle.clearscreen()"
   ]
  },
  {
   "cell_type": "markdown",
   "metadata": {},
   "source": [
    "## Turtle Position\n",
    "If you want to set/get the position of a Turtle you can use the commands:\n",
    "```python\n",
    "myTurtle.goto(-200,100) # Moves to that position\n",
    "myTurtle.setpos(160,130) # Starts at that position\n",
    "```\n",
    "When you move a turtle around like this you need to lift the turtles pen from the screen so it does not draw a line. To do that you should use the commands:\n",
    "\n",
    "```python\n",
    "penup() # Pen no longer draws on the screen when the turtle moves\n",
    "pendown() # Pen draws a line when the turtle moves\n",
    "```\n",
    "\n",
    "To get the current position of a turtle use the following commands:\n",
    "```python\n",
    "turtle.xcor() # Gets the current  x position of the turtle\n",
    "turtle.ycor() # Gets the current  y position of the turtle\n",
    "```\n"
   ]
  },
  {
   "cell_type": "code",
   "execution_count": 18,
   "metadata": {},
   "outputs": [
    {
     "data": {
      "text/plain": [
       "<function turtle.mainloop()>"
      ]
     },
     "execution_count": 18,
     "metadata": {},
     "output_type": "execute_result"
    }
   ],
   "source": [
    "import turtle # import the library\n",
    "import time # Library for time functions\n",
    "Skippy = turtle.Turtle() #Create a new turtle called m\n",
    "turtle.clearscreen() # Clears the screen after turtle is fininshe\n",
    "Skippy.color(\"red\") # Make turtle red in colour\n",
    "Skippy.pensize(5) #Set the tickness of the pen\n",
    "fwd = 100\n",
    "trn = 90\n",
    "Skippy.shape(\"turtle\")\n",
    "# Skippy.stamp()\n",
    "# Skippy.penup()\n",
    "# Skippy.goto(-100,100)\n",
    "#Skippy.setpos(-100,100)\n",
    "Skippy.pendown() \n",
    "Skippy.stamp()\n",
    "Skippy.forward(fwd)\n",
    "Skippy.left(trn)\n",
    "Skippy.forward(fwd)\n",
    "Skippy.left(trn)\n",
    "Skippy.color(\"blue\")\n",
    "# Skippy.left(fwd)\n",
    "# Skippy.forward(fwd +50)\n",
    "# xpos = Skippy.xcor()\n",
    "# ypos = Skippy.ycor()\n",
    "# style = ('Courier', 20, 'italic')\n",
    "#Skippy.write('Hello! I am at ', font=style, align='center')\n",
    "\n",
    "Skippy.write(\"My Name is Skippy\", font=(\"Verdana\",\n",
    "                                    15, \"normal\"))\n",
    "# Skippy.write(xpos, font=style, align='center')\n",
    "# Skippy.write(ypos, font=style, align='center')\n",
    "time.sleep(15) \n",
    "turtle.clearscreen() # Clears the screen after turtle is fininshe\n",
    "turtle.done"
   ]
  },
  {
   "cell_type": "code",
   "execution_count": null,
   "metadata": {},
   "outputs": [],
   "source": []
  },
  {
   "cell_type": "code",
   "execution_count": null,
   "metadata": {},
   "outputs": [],
   "source": []
  }
 ],
 "metadata": {
  "hide_input": false,
  "kernelspec": {
   "display_name": "Python 3 (ipykernel)",
   "language": "python",
   "name": "python3"
  },
  "language_info": {
   "codemirror_mode": {
    "name": "ipython",
    "version": 3
   },
   "file_extension": ".py",
   "mimetype": "text/x-python",
   "name": "python",
   "nbconvert_exporter": "python",
   "pygments_lexer": "ipython3",
   "version": "3.9.12"
  },
  "toc": {
   "base_numbering": 1,
   "nav_menu": {},
   "number_sections": true,
   "sideBar": true,
   "skip_h1_title": false,
   "title_cell": "Table of Contents",
   "title_sidebar": "Contents",
   "toc_cell": false,
   "toc_position": {
    "height": "calc(100% - 180px)",
    "left": "10px",
    "top": "150px",
    "width": "197px"
   },
   "toc_section_display": true,
   "toc_window_display": false
  },
  "varInspector": {
   "cols": {
    "lenName": 16,
    "lenType": 16,
    "lenVar": 40
   },
   "kernels_config": {
    "python": {
     "delete_cmd_postfix": "",
     "delete_cmd_prefix": "del ",
     "library": "var_list.py",
     "varRefreshCmd": "print(var_dic_list())"
    },
    "r": {
     "delete_cmd_postfix": ") ",
     "delete_cmd_prefix": "rm(",
     "library": "var_list.r",
     "varRefreshCmd": "cat(var_dic_list()) "
    }
   },
   "types_to_exclude": [
    "module",
    "function",
    "builtin_function_or_method",
    "instance",
    "_Feature"
   ],
   "window_display": false
  }
 },
 "nbformat": 4,
 "nbformat_minor": 4
}
