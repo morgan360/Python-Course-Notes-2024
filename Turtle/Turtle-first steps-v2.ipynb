{
 "cells": [
  {
   "cell_type": "markdown",
   "metadata": {},
   "source": [
    "# Turtle Playground\n",
    "Turtle is library that you can import into Juypter Notebooks. You use Python commands to play with your turtle. On this course we will be using Turtle to illustrate a number of programming concepts. On week four we will have a small competition to see(by vote)the nicest turtle drawing.\n",
    "\n",
    "Turtle should work straight off on Anacinda 3. However if it does not work, then we may have to use the extension.  The extension is installed useing the following commands in the Anaconda run cmd prompt.<br>\n",
    "<code>$ pip install ipyturtle <br>\n",
    "$ jupyter nbextension enable --py --sys-prefix ipyturtle</code>\n",
    "\n",
    "Turtle Docummentation is available at [Turtle Docs](https://docs.python.org/3.3/library/turtle.html?highlight=turtle)."
   ]
  },
  {
   "cell_type": "markdown",
   "metadata": {},
   "source": [
    "## Turtle's first steps:\n",
    "The first thing you have to do is import an already prebuilt program **(library)** called turtle using import turtle"
   ]
  },
  {
   "cell_type": "code",
   "execution_count": null,
   "metadata": {},
   "outputs": [],
   "source": [
    "# !pip install ipyturtle"
   ]
  },
  {
   "cell_type": "code",
   "execution_count": 1,
   "metadata": {},
   "outputs": [],
   "source": [
    "import turtle # import the library\n",
    "import time # import the library"
   ]
  },
  {
   "cell_type": "code",
   "execution_count": 3,
   "metadata": {},
   "outputs": [],
   "source": [
    "turtle.clearscreen()\n",
    "\n",
    "Fred =  turtle.Turtle()\n",
    "\n",
    "Fred.shape(\"turtle\")\n",
    "Fred.color(\"red\")\n",
    "Fred.forward(100)\n",
    "Fred.left(90) # turn left 90 degrees\n",
    "Fred.forward(100)\n",
    "Fred.left(90)\n",
    "Fred.forward(100)\n",
    "Fred.left(90)\n",
    "Fred.forward(100)\n",
    "Fred.left(90)\n",
    "\n",
    "time.sleep(15)\n",
    "turtle.clearscreen()"
   ]
  },
  {
   "cell_type": "code",
   "execution_count": 12,
   "metadata": {},
   "outputs": [],
   "source": [
    "# Using Variables\n",
    "turtle.clearscreen()\n",
    "# Create Turtle\n",
    "my_turtle =  turtle.Turtle()\n",
    "Mary =  turtle.Turtle()\n",
    "Mary.shape(\"turtle\")\n",
    "Mary.color(\"red\")\n",
    "my_turtle.shape(\"turtle\")\n",
    "my_turtle.color(\"blue\")\n",
    "# Variables\n",
    "frw = 100\n",
    "turn = 45\n",
    "# Thickness of lines\n",
    "my_turtle.pensize(6)\n",
    "Mary.pensize(10)\n",
    "Mary.forward(frw)\n",
    "Mary.left(turn)\n",
    "\n",
    "my_turtle.forward(frw)\n",
    "my_turtle.left(turn)\n",
    "my_turtle.forward(frw)\n",
    "my_turtle.left(turn)\n",
    "my_turtle.forward(frw)\n",
    "my_turtle.left(turn)\n",
    "my_turtle.forward(frw)\n",
    "my_turtle.left(turn)\n",
    "my_turtle.forward(frw)\n",
    "my_turtle.left(turn)\n",
    "my_turtle.forward(frw)\n",
    "my_turtle.left(turn)\n",
    "my_turtle.forward(frw)\n",
    "my_turtle.left(turn)\n",
    "my_turtle.forward(frw)\n",
    "time.sleep(5)\n",
    "# Make changes\n",
    "my_turtle.color(\"green\")\n",
    "frw= frw+20\n",
    "my_turtle.left(turn)\n",
    "my_turtle.forward(frw)\n",
    "my_turtle.left(turn)\n",
    "my_turtle.forward(frw)\n",
    "my_turtle.left(turn)\n",
    "my_turtle.forward(frw)\n",
    "my_turtle.left(turn)\n",
    "my_turtle.forward(frw)\n",
    "my_turtle.left(turn)\n",
    "my_turtle.forward(frw)\n",
    "my_turtle.left(turn)\n",
    "my_turtle.forward(frw)\n",
    "my_turtle.left(turn)\n",
    "my_turtle.forward(frw)\n",
    "my_turtle.left(turn)\n",
    "my_turtle.forward(frw)"
   ]
  },
  {
   "cell_type": "code",
   "execution_count": null,
   "metadata": {},
   "outputs": [],
   "source": [
    "turtle.clearscreen()\n",
    "fwr = 50\n",
    "turn = 45\n",
    "m = turtle.Turtle() #Create a new turtle called m\n",
    "#turtle.clearscreen() # Clears the screen after turtle is fininshe\n",
    "m.color(\"red\") # Make turtle red in colour\n",
    "m.pensize(6) #Set the tickness of the pen\n",
    "m.shape(\"turtle\")\n",
    "\n",
    "m.forward(fwr)\n",
    "m.left(turn)\n",
    "m.forward(fwr)\n",
    "m.left(turn)\n",
    "\n",
    "fwr += 50\n",
    "m.forward(fwr)\n",
    "m.left(turn)\n",
    "m.forward(fwr)\n",
    "m.color(\"green\")\n",
    "m.left(turn)\n",
    "m.forward(fwr)\n",
    "\n",
    "time.sleep(20) \n",
    "turtle.done\n",
    "turtle.clearscreen() # Clears the screen after turtle is fininshe"
   ]
  },
  {
   "cell_type": "code",
   "execution_count": null,
   "metadata": {},
   "outputs": [],
   "source": [
    "import turtle # import the library\n",
    "import time"
   ]
  },
  {
   "cell_type": "code",
   "execution_count": null,
   "metadata": {},
   "outputs": [],
   "source": [
    "m_turtle = turtle.Turtle() #Create a new turtle called m"
   ]
  },
  {
   "cell_type": "code",
   "execution_count": 17,
   "metadata": {},
   "outputs": [],
   "source": [
    "import turtle\n",
    "import time\n",
    "import random\n",
    "#define a range of colours in a list(or tuple)\n",
    "colours = [ \"red\", \"orange\",\"yellow\",\"green\",\"blue\",\"indigo\",\"violet\"]\n",
    "\n",
    "Beno = turtle.Turtle()\n",
    "\n",
    "rnd_colour = random.sample(colours,1)\n",
    "Beno.color(rnd_colour)\n",
    "Beno.pensize(5)\n",
    "Beno.shape(\"turtle\")\n",
    "# Use variables to move our Turtles\n",
    "dst = 20 # distance\n",
    "trn = 45 # turn angle\n",
    "for x in range(20):\n",
    "    Beno.forward(dst)\n",
    "    Beno.left(trn)\n",
    "    Beno.forward(dst)\n",
    "    Beno.left(trn)\n",
    "    dst +=5\n",
    "\n",
    "time.sleep(10)    \n",
    "turtle.clearscreen()    "
   ]
  },
  {
   "cell_type": "code",
   "execution_count": null,
   "metadata": {},
   "outputs": [],
   "source": [
    "import turtle\n",
    "\n",
    "# Create a turtle object\n",
    "star_turtle = turtle.Turtle()\n",
    "\n",
    "# Function to draw a star\n",
    "def draw_star(size):\n",
    "    for _ in range(5):\n",
    "        star_turtle.forward(size)\n",
    "        star_turtle.right(144)\n",
    "\n",
    "# Set the speed and initial position\n",
    "star_turtle.speed(1)\n",
    "star_turtle.penup()\n",
    "star_turtle.goto(0, -100)\n",
    "star_turtle.pendown()\n",
    "\n",
    "# Call the draw_star function with your desired size\n",
    "draw_star(100)\n",
    "\n",
    "# Close the window on click\n",
    "turtle.exitonclick()\n"
   ]
  },
  {
   "cell_type": "code",
   "execution_count": null,
   "metadata": {},
   "outputs": [],
   "source": []
  },
  {
   "cell_type": "code",
   "execution_count": null,
   "metadata": {},
   "outputs": [],
   "source": []
  }
 ],
 "metadata": {
  "hide_input": false,
  "kernelspec": {
   "display_name": "Python 3 (ipykernel)",
   "language": "python",
   "name": "python3"
  },
  "language_info": {
   "codemirror_mode": {
    "name": "ipython",
    "version": 3
   },
   "file_extension": ".py",
   "mimetype": "text/x-python",
   "name": "python",
   "nbconvert_exporter": "python",
   "pygments_lexer": "ipython3",
   "version": "3.9.12"
  },
  "toc": {
   "base_numbering": 1,
   "nav_menu": {},
   "number_sections": false,
   "sideBar": false,
   "skip_h1_title": false,
   "title_cell": "Table of Contents",
   "title_sidebar": "Contents",
   "toc_cell": false,
   "toc_position": {
    "height": "calc(100% - 180px)",
    "left": "10px",
    "top": "150px",
    "width": "165px"
   },
   "toc_section_display": true,
   "toc_window_display": false
  },
  "varInspector": {
   "cols": {
    "lenName": 16,
    "lenType": 16,
    "lenVar": 40
   },
   "kernels_config": {
    "python": {
     "delete_cmd_postfix": "",
     "delete_cmd_prefix": "del ",
     "library": "var_list.py",
     "varRefreshCmd": "print(var_dic_list())"
    },
    "r": {
     "delete_cmd_postfix": ") ",
     "delete_cmd_prefix": "rm(",
     "library": "var_list.r",
     "varRefreshCmd": "cat(var_dic_list()) "
    }
   },
   "types_to_exclude": [
    "module",
    "function",
    "builtin_function_or_method",
    "instance",
    "_Feature"
   ],
   "window_display": false
  }
 },
 "nbformat": 4,
 "nbformat_minor": 4
}
