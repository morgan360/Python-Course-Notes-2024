{
 "cells": [
  {
   "cell_type": "markdown",
   "metadata": {},
   "source": [
    "# Turtle Playground\n",
    "Turtle is library that you can import into Juypter Notebooks. You use Python commands to play with your turtle. On this course we will be using Turtle to illustrate a number of programming concepts. On week four we will have a small competition to see(by vote)the nicest turtle drawing.\n",
    "\n",
    "Turtle should work straight off on Anacinda 3. However if it does not work, then we may have to use the extension.  The extension is installed useing the following commands in the Anaconda run cmd prompt.<br>\n",
    "<code>$ pip install ipyturtle <br>\n",
    "$ jupyter nbextension enable --py --sys-prefix ipyturtle</code>\n",
    "\n",
    "Turtle Docummentation is available at [Turtle Docs](https://docs.python.org/3.3/library/turtle.html?highlight=turtle)."
   ]
  },
  {
   "cell_type": "markdown",
   "metadata": {},
   "source": [
    "## Turtle's first steps:\n",
    "The first thing you have to do is import an already prebuilt program **(library)** called turtle using import turtle"
   ]
  },
  {
   "cell_type": "code",
   "execution_count": null,
   "metadata": {},
   "outputs": [],
   "source": [
    "# !pip install ipyturtle"
   ]
  },
  {
   "cell_type": "code",
   "execution_count": 3,
   "metadata": {},
   "outputs": [],
   "source": [
    "import turtle # import the library\n",
    "import time # import the library"
   ]
  },
  {
   "cell_type": "code",
   "execution_count": 10,
   "metadata": {},
   "outputs": [],
   "source": [
    "turtle.clearscreen()\n",
    "\n",
    "Fred =  turtle.Turtle()\n",
    "\n",
    "Fred.shape(\"turtle\")\n",
    "Fred.color(\"blue\")\n",
    "Fred.forward(100)\n",
    "Fred.left(45) # turn left 90 degrees\n",
    "Fred.forward(100)\n",
    "Fred.left(45)\n",
    "Fred.forward(100)\n",
    "Fred.left(45)\n",
    "Fred.forward(100)\n",
    "Fred.left(45)\n",
    "Fred.forward(100)\n",
    "Fred.left(45)\n",
    "Fred.forward(100)\n",
    "Fred.left(45)\n",
    "Fred.forward(100)\n",
    "Fred.left(45)\n",
    "\n",
    "\n",
    "\n",
    "time.sleep(15)\n",
    "turtle.clearscreen()"
   ]
  },
  {
   "cell_type": "code",
   "execution_count": 12,
   "metadata": {},
   "outputs": [],
   "source": [
    "# Using Variables\n",
    "turtle.clearscreen()\n",
    "# Create Turtle\n",
    "my_turtle =  turtle.Turtle()\n",
    "Mary =  turtle.Turtle()\n",
    "Mary.shape(\"turtle\")\n",
    "Mary.color(\"red\")\n",
    "my_turtle.shape(\"turtle\")\n",
    "my_turtle.color(\"blue\")\n",
    "# Variables\n",
    "frw = 100\n",
    "turn = 45\n",
    "# Thickness of lines\n",
    "my_turtle.pensize(6)\n",
    "Mary.pensize(10)\n",
    "Mary.forward(frw)\n",
    "Mary.left(90)\n",
    "Mary.forward(frw)\n",
    "Mary.left(90)\n",
    "Mary.forward(frw)\n",
    "Mary.left(90)\n",
    "\n",
    "\n",
    "my_turtle.forward(frw)\n",
    "my_turtle.left(turn)\n",
    "my_turtle.forward(frw)\n",
    "my_turtle.left(turn)\n",
    "my_turtle.forward(frw)\n",
    "my_turtle.left(turn)\n",
    "my_turtle.forward(frw)\n",
    "my_turtle.left(turn)\n",
    "my_turtle.forward(frw)\n",
    "my_turtle.left(turn)\n",
    "my_turtle.forward(frw)\n",
    "my_turtle.left(turn)\n",
    "my_turtle.forward(frw)\n",
    "my_turtle.left(turn)\n",
    "my_turtle.forward(frw)\n",
    "time.sleep(5)\n",
    "# Make changes\n",
    "my_turtle.color(\"green\")\n",
    "frw= frw+20\n",
    "my_turtle.left(turn)\n",
    "my_turtle.forward(frw)\n",
    "my_turtle.left(turn)\n",
    "my_turtle.forward(frw)\n",
    "my_turtle.left(turn)\n",
    "my_turtle.forward(frw)\n",
    "my_turtle.left(turn)\n",
    "my_turtle.forward(frw)\n",
    "my_turtle.left(turn)\n",
    "my_turtle.forward(frw)\n",
    "my_turtle.left(turn)\n",
    "my_turtle.forward(frw)\n",
    "my_turtle.left(turn)\n",
    "my_turtle.forward(frw)\n",
    "my_turtle.left(turn)\n",
    "my_turtle.forward(frw)"
   ]
  },
  {
   "cell_type": "code",
   "execution_count": null,
   "metadata": {},
   "outputs": [],
   "source": [
    "turtle.clearscreen()\n",
    "fwr = 50\n",
    "turn = 45\n",
    "m = turtle.Turtle() #Create a new turtle called m\n",
    "#turtle.clearscreen() # Clears the screen after turtle is fininshe\n",
    "m.color(\"red\") # Make turtle red in colour\n",
    "m.pensize(6) #Set the tickness of the pen\n",
    "m.shape(\"turtle\")\n",
    "\n",
    "m.forward(fwr)\n",
    "m.left(turn)\n",
    "m.forward(fwr)\n",
    "m.left(turn)\n",
    "\n",
    "fwr += 50\n",
    "m.forward(fwr)\n",
    "m.left(turn)\n",
    "m.forward(fwr)\n",
    "m.color(\"green\")\n",
    "m.left(turn)\n",
    "m.forward(fwr)\n",
    "\n",
    "time.sleep(20) \n",
    "turtle.done\n",
    "turtle.clearscreen() # Clears the screen after turtle is fininshe"
   ]
  },
  {
   "cell_type": "code",
   "execution_count": null,
   "metadata": {},
   "outputs": [],
   "source": [
    "import turtle # import the library\n",
    "import time"
   ]
  },
  {
   "cell_type": "code",
   "execution_count": null,
   "metadata": {},
   "outputs": [],
   "source": [
    "m_turtle = turtle.Turtle() #Create a new turtle called m"
   ]
  },
  {
   "cell_type": "code",
   "execution_count": 3,
   "metadata": {},
   "outputs": [
    {
     "ename": "Terminator",
     "evalue": "",
     "output_type": "error",
     "traceback": [
      "\u001b[0;31m---------------------------------------------------------------------------\u001b[0m",
      "\u001b[0;31mTclError\u001b[0m                                  Traceback (most recent call last)",
      "File \u001b[0;32m<string>:8\u001b[0m, in \u001b[0;36mclearscreen\u001b[0;34m()\u001b[0m\n",
      "File \u001b[0;32m~/opt/anaconda3/lib/python3.9/turtle.py:1028\u001b[0m, in \u001b[0;36mTurtleScreen.clear\u001b[0;34m(self)\u001b[0m\n\u001b[1;32m   1027\u001b[0m \u001b[38;5;28;01mfor\u001b[39;00m btn \u001b[38;5;129;01min\u001b[39;00m \u001b[38;5;241m1\u001b[39m, \u001b[38;5;241m2\u001b[39m, \u001b[38;5;241m3\u001b[39m:\n\u001b[0;32m-> 1028\u001b[0m     \u001b[38;5;28;43mself\u001b[39;49m\u001b[38;5;241;43m.\u001b[39;49m\u001b[43monclick\u001b[49m\u001b[43m(\u001b[49m\u001b[38;5;28;43;01mNone\u001b[39;49;00m\u001b[43m,\u001b[49m\u001b[43m \u001b[49m\u001b[43mbtn\u001b[49m\u001b[43m)\u001b[49m\n\u001b[1;32m   1029\u001b[0m \u001b[38;5;28mself\u001b[39m\u001b[38;5;241m.\u001b[39monkeypress(\u001b[38;5;28;01mNone\u001b[39;00m)\n",
      "File \u001b[0;32m~/opt/anaconda3/lib/python3.9/turtle.py:1365\u001b[0m, in \u001b[0;36mTurtleScreen.onclick\u001b[0;34m(self, fun, btn, add)\u001b[0m\n\u001b[1;32m   1351\u001b[0m \u001b[38;5;124;03m\"\"\"Bind fun to mouse-click event on canvas.\u001b[39;00m\n\u001b[1;32m   1352\u001b[0m \n\u001b[1;32m   1353\u001b[0m \u001b[38;5;124;03mArguments:\u001b[39;00m\n\u001b[0;32m   (...)\u001b[0m\n\u001b[1;32m   1363\u001b[0m \u001b[38;5;124;03m>>> screen.onclick(None)\u001b[39;00m\n\u001b[1;32m   1364\u001b[0m \u001b[38;5;124;03m\"\"\"\u001b[39;00m\n\u001b[0;32m-> 1365\u001b[0m \u001b[38;5;28;43mself\u001b[39;49m\u001b[38;5;241;43m.\u001b[39;49m\u001b[43m_onscreenclick\u001b[49m\u001b[43m(\u001b[49m\u001b[43mfun\u001b[49m\u001b[43m,\u001b[49m\u001b[43m \u001b[49m\u001b[43mbtn\u001b[49m\u001b[43m,\u001b[49m\u001b[43m \u001b[49m\u001b[43madd\u001b[49m\u001b[43m)\u001b[49m\n",
      "File \u001b[0;32m~/opt/anaconda3/lib/python3.9/turtle.py:669\u001b[0m, in \u001b[0;36mTurtleScreenBase._onscreenclick\u001b[0;34m(self, fun, num, add)\u001b[0m\n\u001b[1;32m    668\u001b[0m \u001b[38;5;28;01mif\u001b[39;00m fun \u001b[38;5;129;01mis\u001b[39;00m \u001b[38;5;28;01mNone\u001b[39;00m:\n\u001b[0;32m--> 669\u001b[0m     \u001b[38;5;28;43mself\u001b[39;49m\u001b[38;5;241;43m.\u001b[39;49m\u001b[43mcv\u001b[49m\u001b[38;5;241;43m.\u001b[39;49m\u001b[43munbind\u001b[49m\u001b[43m(\u001b[49m\u001b[38;5;124;43m\"\u001b[39;49m\u001b[38;5;124;43m<Button-\u001b[39;49m\u001b[38;5;132;43;01m%s\u001b[39;49;00m\u001b[38;5;124;43m>\u001b[39;49m\u001b[38;5;124;43m\"\u001b[39;49m\u001b[43m \u001b[49m\u001b[38;5;241;43m%\u001b[39;49m\u001b[43m \u001b[49m\u001b[43mnum\u001b[49m\u001b[43m)\u001b[49m\n\u001b[1;32m    670\u001b[0m \u001b[38;5;28;01melse\u001b[39;00m:\n",
      "File \u001b[0;32m~/opt/anaconda3/lib/python3.9/turtle.py:422\u001b[0m, in \u001b[0;36mScrolledCanvas.unbind\u001b[0;34m(self, *args, **kwargs)\u001b[0m\n\u001b[1;32m    420\u001b[0m \u001b[38;5;124;03m\"\"\" 'forward' method, which canvas itself has inherited...\u001b[39;00m\n\u001b[1;32m    421\u001b[0m \u001b[38;5;124;03m\"\"\"\u001b[39;00m\n\u001b[0;32m--> 422\u001b[0m \u001b[38;5;28;43mself\u001b[39;49m\u001b[38;5;241;43m.\u001b[39;49m\u001b[43m_canvas\u001b[49m\u001b[38;5;241;43m.\u001b[39;49m\u001b[43munbind\u001b[49m\u001b[43m(\u001b[49m\u001b[38;5;241;43m*\u001b[39;49m\u001b[43margs\u001b[49m\u001b[43m,\u001b[49m\u001b[43m \u001b[49m\u001b[38;5;241;43m*\u001b[39;49m\u001b[38;5;241;43m*\u001b[39;49m\u001b[43mkwargs\u001b[49m\u001b[43m)\u001b[49m\n",
      "File \u001b[0;32m~/opt/anaconda3/lib/python3.9/tkinter/__init__.py:1397\u001b[0m, in \u001b[0;36mMisc.unbind\u001b[0;34m(self, sequence, funcid)\u001b[0m\n\u001b[1;32m   1395\u001b[0m \u001b[38;5;124;03m\"\"\"Unbind for this widget for event SEQUENCE  the\u001b[39;00m\n\u001b[1;32m   1396\u001b[0m \u001b[38;5;124;03mfunction identified with FUNCID.\"\"\"\u001b[39;00m\n\u001b[0;32m-> 1397\u001b[0m \u001b[38;5;28;43mself\u001b[39;49m\u001b[38;5;241;43m.\u001b[39;49m\u001b[43mtk\u001b[49m\u001b[38;5;241;43m.\u001b[39;49m\u001b[43mcall\u001b[49m\u001b[43m(\u001b[49m\u001b[38;5;124;43m'\u001b[39;49m\u001b[38;5;124;43mbind\u001b[39;49m\u001b[38;5;124;43m'\u001b[39;49m\u001b[43m,\u001b[49m\u001b[43m \u001b[49m\u001b[38;5;28;43mself\u001b[39;49m\u001b[38;5;241;43m.\u001b[39;49m\u001b[43m_w\u001b[49m\u001b[43m,\u001b[49m\u001b[43m \u001b[49m\u001b[43msequence\u001b[49m\u001b[43m,\u001b[49m\u001b[43m \u001b[49m\u001b[38;5;124;43m'\u001b[39;49m\u001b[38;5;124;43m'\u001b[39;49m\u001b[43m)\u001b[49m\n\u001b[1;32m   1398\u001b[0m \u001b[38;5;28;01mif\u001b[39;00m funcid:\n",
      "\u001b[0;31mTclError\u001b[0m: can't invoke \"bind\" command: application has been destroyed",
      "\nDuring handling of the above exception, another exception occurred:\n",
      "\u001b[0;31mTerminator\u001b[0m                                Traceback (most recent call last)",
      "Input \u001b[0;32mIn [3]\u001b[0m, in \u001b[0;36m<cell line: 24>\u001b[0;34m()\u001b[0m\n\u001b[1;32m     21\u001b[0m     dst \u001b[38;5;241m+\u001b[39m\u001b[38;5;241m=\u001b[39m\u001b[38;5;241m5\u001b[39m\n\u001b[1;32m     23\u001b[0m time\u001b[38;5;241m.\u001b[39msleep(\u001b[38;5;241m10\u001b[39m)    \n\u001b[0;32m---> 24\u001b[0m \u001b[43mturtle\u001b[49m\u001b[38;5;241;43m.\u001b[39;49m\u001b[43mclearscreen\u001b[49m\u001b[43m(\u001b[49m\u001b[43m)\u001b[49m\n",
      "File \u001b[0;32m<string>:12\u001b[0m, in \u001b[0;36mclearscreen\u001b[0;34m()\u001b[0m\n",
      "\u001b[0;31mTerminator\u001b[0m: "
     ]
    }
   ],
   "source": [
    "import turtle\n",
    "import time\n",
    "import random\n",
    "#define a range of colours in a list(or tuple)\n",
    "colours = [ \"red\", \"orange\",\"yellow\",\"green\",\"blue\",\"indigo\",\"violet\"]\n",
    "\n",
    "Beno = turtle.Turtle()\n",
    "\n",
    "rnd_colour = random.sample(colours,1)\n",
    "Beno.color(rnd_colour)\n",
    "Beno.pensize(5)\n",
    "Beno.shape(\"turtle\")\n",
    "# Use variables to move our Turtles\n",
    "dst = 20 # distance\n",
    "trn = 33 # turn angle\n",
    "for x in range(20):\n",
    "    Beno.forward(dst)\n",
    "    Beno.left(trn)\n",
    "    Beno.forward(dst)\n",
    "    Beno.left(trn)\n",
    "    dst +=5\n",
    "\n",
    "time.sleep(10)    \n",
    "turtle.clearscreen()    "
   ]
  },
  {
   "cell_type": "code",
   "execution_count": null,
   "metadata": {},
   "outputs": [],
   "source": [
    "import turtle\n",
    "\n",
    "# Create a turtle object\n",
    "star_turtle = turtle.Turtle()\n",
    "\n",
    "# Function to draw a star\n",
    "def draw_star(size):\n",
    "    for _ in range(5):\n",
    "        star_turtle.forward(size)\n",
    "        star_turtle.right(144)\n",
    "\n",
    "# Set the speed and initial position\n",
    "star_turtle.speed(1)\n",
    "star_turtle.penup()\n",
    "star_turtle.goto(0, -100)\n",
    "star_turtle.pendown()\n",
    "\n",
    "# Call the draw_star function with your desired size\n",
    "draw_star(100)\n",
    "\n",
    "# Close the window on click\n",
    "turtle.exitonclick()\n"
   ]
  },
  {
   "cell_type": "code",
   "execution_count": null,
   "metadata": {},
   "outputs": [],
   "source": []
  },
  {
   "cell_type": "code",
   "execution_count": null,
   "metadata": {},
   "outputs": [],
   "source": []
  }
 ],
 "metadata": {
  "hide_input": false,
  "kernelspec": {
   "display_name": "Python 3 (ipykernel)",
   "language": "python",
   "name": "python3"
  },
  "language_info": {
   "codemirror_mode": {
    "name": "ipython",
    "version": 3
   },
   "file_extension": ".py",
   "mimetype": "text/x-python",
   "name": "python",
   "nbconvert_exporter": "python",
   "pygments_lexer": "ipython3",
   "version": "3.9.12"
  },
  "toc": {
   "base_numbering": 1,
   "nav_menu": {},
   "number_sections": false,
   "sideBar": false,
   "skip_h1_title": false,
   "title_cell": "Table of Contents",
   "title_sidebar": "Contents",
   "toc_cell": false,
   "toc_position": {
    "height": "calc(100% - 180px)",
    "left": "10px",
    "top": "150px",
    "width": "165px"
   },
   "toc_section_display": true,
   "toc_window_display": false
  },
  "varInspector": {
   "cols": {
    "lenName": 16,
    "lenType": 16,
    "lenVar": 40
   },
   "kernels_config": {
    "python": {
     "delete_cmd_postfix": "",
     "delete_cmd_prefix": "del ",
     "library": "var_list.py",
     "varRefreshCmd": "print(var_dic_list())"
    },
    "r": {
     "delete_cmd_postfix": ") ",
     "delete_cmd_prefix": "rm(",
     "library": "var_list.r",
     "varRefreshCmd": "cat(var_dic_list()) "
    }
   },
   "types_to_exclude": [
    "module",
    "function",
    "builtin_function_or_method",
    "instance",
    "_Feature"
   ],
   "window_display": false
  }
 },
 "nbformat": 4,
 "nbformat_minor": 4
}
